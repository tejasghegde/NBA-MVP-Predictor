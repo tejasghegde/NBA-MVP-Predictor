{
  "cells": [
    {
      "cell_type": "markdown",
      "metadata": {
        "id": "view-in-github",
        "colab_type": "text"
      },
      "source": [
        "<a href=\"https://colab.research.google.com/github/tejasghegde/NBA-MVP-Predictor/blob/main/Team_Hummingbird_Final_Tutorial.ipynb\" target=\"_parent\"><img src=\"https://colab.research.google.com/assets/colab-badge.svg\" alt=\"Open In Colab\"/></a>"
      ]
    },
    {
      "cell_type": "markdown",
      "source": [
        "# **NBA MVP Prediction Model**"
      ],
      "metadata": {
        "id": "ToozRTbHsYmO"
      }
    },
    {
      "cell_type": "markdown",
      "source": [
        "Welcome to the NBA most valuable player (MVP) prediction tutorial! In this notebook, you will learn how to scrape NBA data and preprocess it in order to train a neural network to predict the regular season MVP winner. You will interact with and learn about several prominent Python libraries, including Pandas, PyTorch, scikit-learn, and Matplotlib. By the end of this tutorial, you will feel confident implementing a neural network in PyTorch and have a better understanding of the factors that contribute to an NBA player being crowned MVP of the league. This tutorial is meant to be challenging, so if you don't understand everything, don't worry. This is meant to be an introduction to machine learning and hopefully, a jumping off point to learn even more."
      ],
      "metadata": {
        "id": "CVpHDlau7dsq"
      }
    },
    {
      "cell_type": "markdown",
      "source": [
        "<div style=\"display: flex; justify-content: center;\">\n",
        "    <img src=\"https://media1.giphy.com/media/v1.Y2lkPTc5MGI3NjExeDdpaDFtb281bnU0bnFudzdkZ2I5eDdudWRraDM3dGNvYmsxZGtucyZlcD12MV9pbnRlcm5hbF9naWZfYnlfaWQmY3Q9Zw/r9t4G4O5zjw4BqpFAX/giphy.gif\" style=\"max-width: 100%; max-height: 100%; margin: auto;\">\n",
        "</div>"
      ],
      "metadata": {
        "id": "QKGIWgdRtBmE"
      }
    },
    {
      "cell_type": "markdown",
      "source": [
        "## **Project Background and Motivation**"
      ],
      "metadata": {
        "id": "4XhwDIvMuAWF"
      }
    },
    {
      "cell_type": "markdown",
      "source": [
        "It is difficult to understand how the NBA MVP is determined. The voting process involves 100 media members who cast their votes based on opaque criteria of their choosing. While the NBA releases the top vote-getters and the final vote tally, the specific ballots and reasoning behind each vote are not disclosed. This makes it difficult for fans and analysts to fully understand how the award is determined and can lead to debates about its legitimacy.\n",
        "\n",
        "This problem was seen in full effect last year when two deserving candidates, Joel Embiid and Nikola Jokic, were locked in a fierce battle for MVP. Many fans were upset that Embiid was ultimately named the winner, claiming that Jokic was more deserving based on both statistics and overall dominance. Since an argument could be made for both players, the decision was complicated, but many people believe that Embiid ended up winning the award due to narrative. Jokic’s MVP campaign was penalized because it would have been his third consecutive MVP award, and the only players to win three MVP awards in a row are Hall of Famers with multiple championship titles, while Jokic had none. Even though Jokic objectively deserved to win MVP based on his play, NBA award voters deemed it sacrilege to grant him membership to the MVP three-peat club and snubbed him as a result. After Jokic led his team to a championship the following postseason, NBA discourse pivoted. People realized the error in the award voting, resulting in a strong push amongst NBA fans and media members for Jokic to win MVP this season to counteract the mishap of the previous year.\n",
        "\n",
        "These problems highlight the need for greater transparency and clarity in the NBA MVP voting process to ensure the credibility of the award. As such, we hope that this tutorial demystifies the voting process and allows us to understand the extent to which winning the award can be attributed to hard data. If you’re interested in reading further about the contentious Jokic-Embiid race, [this article](https://www.theringer.com/nba/2023/3/27/23657849/2023-mvp-debate-nikola-jokic-joel-embiid) covers the saga in fuller detail. Now, let’s begin the tutorial!"
      ],
      "metadata": {
        "id": "aCZ42ZiwuDY9"
      }
    },
    {
      "cell_type": "markdown",
      "source": [
        "## **Project Workflow**"
      ],
      "metadata": {
        "id": "KcvYMDktuIRt"
      }
    },
    {
      "cell_type": "markdown",
      "source": [
        "![Workflow.png](data:image/png;base64,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)"
      ],
      "metadata": {
        "id": "5fgyIlSc7UJV"
      }
    },
    {
      "cell_type": "markdown",
      "source": [
        "## **Step One: Data Scraping and Preprocessing**"
      ],
      "metadata": {
        "id": "gmNQt9EqujH8"
      }
    },
    {
      "cell_type": "markdown",
      "source": [
        "In this segment, we will gather data from [Basketball-Reference](https://www.basketball-reference.com/) and [NBA API](https://github.com/swar/nba_api) and format it in a way that we can use to train our neural network. We'll collect various statistics from every player that received MVP votes dating back to the 1996-97 season. The first step is to install and import the various packages we'll use for this project."
      ],
      "metadata": {
        "id": "lPzSqjlcuuHA"
      }
    },
    {
      "cell_type": "code",
      "source": [
        "!pip install unidecode\n",
        "!pip install nba_api\n",
        "import pandas as pd\n",
        "import numpy as np\n",
        "import time\n",
        "import torch\n",
        "import matplotlib.pyplot as plt\n",
        "from torch import nn\n",
        "import torch.nn.init as init\n",
        "import torch.optim as optim\n",
        "from torch.utils.data import TensorDataset, DataLoader\n",
        "from sklearn.preprocessing import StandardScaler\n",
        "from unidecode import unidecode"
      ],
      "metadata": {
        "id": "0Ky_4pOSfblR",
        "colab": {
          "base_uri": "https://localhost:8080/"
        },
        "collapsed": true,
        "outputId": "5d3d9dc6-afaf-42c9-b7d4-5c98feaa8e1a"
      },
      "execution_count": null,
      "outputs": [
        {
          "output_type": "stream",
          "name": "stdout",
          "text": [
            "Requirement already satisfied: unidecode in /usr/local/lib/python3.10/dist-packages (1.3.8)\n",
            "Requirement already satisfied: nba_api in /usr/local/lib/python3.10/dist-packages (1.4.1)\n",
            "Requirement already satisfied: certifi<2024.0.0,>=2023.7.22 in /usr/local/lib/python3.10/dist-packages (from nba_api) (2023.11.17)\n",
            "Requirement already satisfied: numpy<2.0.0,>=1.22.2 in /usr/local/lib/python3.10/dist-packages (from nba_api) (1.25.2)\n",
            "Requirement already satisfied: requests<3.0,>=2.31 in /usr/local/lib/python3.10/dist-packages (from nba_api) (2.31.0)\n",
            "Requirement already satisfied: charset-normalizer<4,>=2 in /usr/local/lib/python3.10/dist-packages (from requests<3.0,>=2.31->nba_api) (3.3.2)\n",
            "Requirement already satisfied: idna<4,>=2.5 in /usr/local/lib/python3.10/dist-packages (from requests<3.0,>=2.31->nba_api) (3.7)\n",
            "Requirement already satisfied: urllib3<3,>=1.21.1 in /usr/local/lib/python3.10/dist-packages (from requests<3.0,>=2.31->nba_api) (2.0.7)\n",
            "Requirement already satisfied: unidecode in /usr/local/lib/python3.10/dist-packages (1.3.8)\n",
            "Requirement already satisfied: nba_api in /usr/local/lib/python3.10/dist-packages (1.4.1)\n",
            "Requirement already satisfied: certifi<2024.0.0,>=2023.7.22 in /usr/local/lib/python3.10/dist-packages (from nba_api) (2023.11.17)\n",
            "Requirement already satisfied: numpy<2.0.0,>=1.22.2 in /usr/local/lib/python3.10/dist-packages (from nba_api) (1.25.2)\n",
            "Requirement already satisfied: requests<3.0,>=2.31 in /usr/local/lib/python3.10/dist-packages (from nba_api) (2.31.0)\n",
            "Requirement already satisfied: charset-normalizer<4,>=2 in /usr/local/lib/python3.10/dist-packages (from requests<3.0,>=2.31->nba_api) (3.3.2)\n",
            "Requirement already satisfied: idna<4,>=2.5 in /usr/local/lib/python3.10/dist-packages (from requests<3.0,>=2.31->nba_api) (3.7)\n",
            "Requirement already satisfied: urllib3<3,>=1.21.1 in /usr/local/lib/python3.10/dist-packages (from requests<3.0,>=2.31->nba_api) (2.0.7)\n"
          ]
        }
      ]
    },
    {
      "cell_type": "markdown",
      "source": [
        "Next, we'll define some methods that allow us to find the players who are in consideration for MVP each season. Below is the method we'll use to find MVP candidates from previous seasons in which MVP voting has already occurred. We'll leverage [Pandas](https://pandas.pydata.org/docs/reference/index.html#api), a Python library for data manipulation and analysis. It offers data structures and operations for manipulating numerical tables and time series. In this project, we can use Pandas to structure and visualize our data."
      ],
      "metadata": {
        "id": "h48Rlu1du6il"
      }
    },
    {
      "cell_type": "code",
      "execution_count": null,
      "metadata": {
        "id": "Gp7GcxE-e9u-"
      },
      "outputs": [],
      "source": [
        "def top_mvp_cands(season):\n",
        "  \"\"\"\n",
        "  top_mvp_cands() creates a table of the players who received MVP votes in a\n",
        "  given season, in order.\n",
        "\n",
        "  Parameters:\n",
        "  season (int): the season to pull data from, e.g. 2022 for the 2021-22 NBA season.\n",
        "\n",
        "  Returns:\n",
        "  mvp_cands_df (Pandas dataframe): a table displaying the statistics of the\n",
        "  players who received MVP votes that year, in order of voting place.\n",
        "  \"\"\"\n",
        "\n",
        "  league_url = f\"https://www.basketball-reference.com/awards/awards_{season}.html#mvp\"\n",
        "  time.sleep(6)  # Prevents rate limit errors\n",
        "  table = pd.read_html(league_url)  # Reads in all award voting from a given season\n",
        "  mvp_cands_df = table[0]  # Zero index corresponds to MVP award\n",
        "  mvp_cands_df.columns = mvp_cands_df.columns.droplevel(0)  # Get rid of first row\n",
        "  return mvp_cands_df"
      ]
    },
    {
      "cell_type": "markdown",
      "source": [
        "There's a lot happening in that function if you're new to Pandas! Feel free to experiment with the code to get a better sense of what's going on. For example, you can run \"return table\" to see what the entire table contains, you can play with the index of the table that we assign to our dataframe, and you can try dropping different levels from the columns. In a nutshell, this method reads in all the award voting information from a given season and saves it in a Pandas dataframe, selects the segment that corresponds to the MVP award, and drops the first row of the table that has some under-the-hood information we don't want to output.\n",
        "\n",
        "Let's see what this method returns for the 2021-22 NBA season!"
      ],
      "metadata": {
        "id": "9X26hhe3y5bv"
      }
    },
    {
      "cell_type": "code",
      "source": [
        "top_mvp_cands(2022)"
      ],
      "metadata": {
        "id": "zVHKHvepyvaz",
        "outputId": "840c9260-c92f-4657-9a9a-e4fdd1f5d24e",
        "colab": {
          "base_uri": "https://localhost:8080/",
          "height": 425
        },
        "collapsed": true
      },
      "execution_count": null,
      "outputs": [
        {
          "output_type": "execute_result",
          "data": {
            "text/plain": [
              "   Rank                 Player  Age   Tm  First  Pts Won  Pts Max  Share   G  \\\n",
              "0     1           Nikola Jokić   26  DEN   65.0    875.0     1000  0.875  74   \n",
              "1     2            Joel Embiid   27  PHI   26.0    706.0     1000  0.706  68   \n",
              "2     3  Giannis Antetokounmpo   27  MIL    9.0    595.0     1000  0.595  67   \n",
              "3     4           Devin Booker   25  PHO    0.0    216.0     1000  0.216  68   \n",
              "4     5            Luka Dončić   22  DAL    0.0    146.0     1000  0.146  65   \n",
              "5     6           Jayson Tatum   23  BOS    0.0     43.0     1000  0.043  76   \n",
              "6     7              Ja Morant   22  MEM    0.0     10.0     1000  0.010  57   \n",
              "7     8          Stephen Curry   33  GSW    0.0      4.0     1000  0.004  64   \n",
              "8     9             Chris Paul   36  PHO    0.0      2.0     1000  0.002  65   \n",
              "9   10T          DeMar DeRozan   32  CHI    0.0      1.0     1000  0.001  76   \n",
              "10  10T           Kevin Durant   33  BRK    0.0      1.0     1000  0.001  55   \n",
              "11  10T           LeBron James   37  LAL    0.0      1.0     1000  0.001  56   \n",
              "\n",
              "      MP   PTS   TRB   AST  STL  BLK    FG%    3P%    FT%    WS  WS/48  \n",
              "0   33.5  27.1  13.8   7.9  1.5  0.9  0.583  0.337  0.810  15.2  0.296  \n",
              "1   33.8  30.6  11.7   4.2  1.1  1.5  0.499  0.371  0.814  12.0  0.252  \n",
              "2   32.9  29.9  11.6   5.8  1.1  1.4  0.553  0.293  0.722  12.9  0.281  \n",
              "3   34.5  26.8   5.0   4.8  1.1  0.4  0.466  0.383  0.868   7.6  0.156  \n",
              "4   35.4  28.4   9.1   8.7  1.2  0.6  0.457  0.353  0.744   7.6  0.159  \n",
              "5   35.9  26.9   8.0   4.4  1.0  0.6  0.453  0.353  0.853   9.6  0.169  \n",
              "6   33.1  27.4   5.7   6.7  1.2  0.4  0.493  0.344  0.761   6.7  0.171  \n",
              "7   34.5  25.5   5.2   6.3  1.3  0.4  0.437  0.380  0.923   8.0  0.173  \n",
              "8   32.9  14.7   4.4  10.8  1.9  0.3  0.493  0.317  0.837   9.4  0.210  \n",
              "9   36.1  27.9   5.2   4.9  0.9  0.3  0.504  0.352  0.877   8.8  0.154  \n",
              "10  37.2  29.9   7.4   6.4  0.9  0.9  0.518  0.383  0.910   8.4  0.198  \n",
              "11  37.2  30.3   8.2   6.2  1.3  1.1  0.524  0.359  0.756   7.5  0.172  "
            ],
            "text/html": [
              "\n",
              "  <div id=\"df-2c9e792f-fa7e-4675-b730-fb4945692e21\" class=\"colab-df-container\">\n",
              "    <div>\n",
              "<style scoped>\n",
              "    .dataframe tbody tr th:only-of-type {\n",
              "        vertical-align: middle;\n",
              "    }\n",
              "\n",
              "    .dataframe tbody tr th {\n",
              "        vertical-align: top;\n",
              "    }\n",
              "\n",
              "    .dataframe thead th {\n",
              "        text-align: right;\n",
              "    }\n",
              "</style>\n",
              "<table border=\"1\" class=\"dataframe\">\n",
              "  <thead>\n",
              "    <tr style=\"text-align: right;\">\n",
              "      <th></th>\n",
              "      <th>Rank</th>\n",
              "      <th>Player</th>\n",
              "      <th>Age</th>\n",
              "      <th>Tm</th>\n",
              "      <th>First</th>\n",
              "      <th>Pts Won</th>\n",
              "      <th>Pts Max</th>\n",
              "      <th>Share</th>\n",
              "      <th>G</th>\n",
              "      <th>MP</th>\n",
              "      <th>PTS</th>\n",
              "      <th>TRB</th>\n",
              "      <th>AST</th>\n",
              "      <th>STL</th>\n",
              "      <th>BLK</th>\n",
              "      <th>FG%</th>\n",
              "      <th>3P%</th>\n",
              "      <th>FT%</th>\n",
              "      <th>WS</th>\n",
              "      <th>WS/48</th>\n",
              "    </tr>\n",
              "  </thead>\n",
              "  <tbody>\n",
              "    <tr>\n",
              "      <th>0</th>\n",
              "      <td>1</td>\n",
              "      <td>Nikola Jokić</td>\n",
              "      <td>26</td>\n",
              "      <td>DEN</td>\n",
              "      <td>65.0</td>\n",
              "      <td>875.0</td>\n",
              "      <td>1000</td>\n",
              "      <td>0.875</td>\n",
              "      <td>74</td>\n",
              "      <td>33.5</td>\n",
              "      <td>27.1</td>\n",
              "      <td>13.8</td>\n",
              "      <td>7.9</td>\n",
              "      <td>1.5</td>\n",
              "      <td>0.9</td>\n",
              "      <td>0.583</td>\n",
              "      <td>0.337</td>\n",
              "      <td>0.810</td>\n",
              "      <td>15.2</td>\n",
              "      <td>0.296</td>\n",
              "    </tr>\n",
              "    <tr>\n",
              "      <th>1</th>\n",
              "      <td>2</td>\n",
              "      <td>Joel Embiid</td>\n",
              "      <td>27</td>\n",
              "      <td>PHI</td>\n",
              "      <td>26.0</td>\n",
              "      <td>706.0</td>\n",
              "      <td>1000</td>\n",
              "      <td>0.706</td>\n",
              "      <td>68</td>\n",
              "      <td>33.8</td>\n",
              "      <td>30.6</td>\n",
              "      <td>11.7</td>\n",
              "      <td>4.2</td>\n",
              "      <td>1.1</td>\n",
              "      <td>1.5</td>\n",
              "      <td>0.499</td>\n",
              "      <td>0.371</td>\n",
              "      <td>0.814</td>\n",
              "      <td>12.0</td>\n",
              "      <td>0.252</td>\n",
              "    </tr>\n",
              "    <tr>\n",
              "      <th>2</th>\n",
              "      <td>3</td>\n",
              "      <td>Giannis Antetokounmpo</td>\n",
              "      <td>27</td>\n",
              "      <td>MIL</td>\n",
              "      <td>9.0</td>\n",
              "      <td>595.0</td>\n",
              "      <td>1000</td>\n",
              "      <td>0.595</td>\n",
              "      <td>67</td>\n",
              "      <td>32.9</td>\n",
              "      <td>29.9</td>\n",
              "      <td>11.6</td>\n",
              "      <td>5.8</td>\n",
              "      <td>1.1</td>\n",
              "      <td>1.4</td>\n",
              "      <td>0.553</td>\n",
              "      <td>0.293</td>\n",
              "      <td>0.722</td>\n",
              "      <td>12.9</td>\n",
              "      <td>0.281</td>\n",
              "    </tr>\n",
              "    <tr>\n",
              "      <th>3</th>\n",
              "      <td>4</td>\n",
              "      <td>Devin Booker</td>\n",
              "      <td>25</td>\n",
              "      <td>PHO</td>\n",
              "      <td>0.0</td>\n",
              "      <td>216.0</td>\n",
              "      <td>1000</td>\n",
              "      <td>0.216</td>\n",
              "      <td>68</td>\n",
              "      <td>34.5</td>\n",
              "      <td>26.8</td>\n",
              "      <td>5.0</td>\n",
              "      <td>4.8</td>\n",
              "      <td>1.1</td>\n",
              "      <td>0.4</td>\n",
              "      <td>0.466</td>\n",
              "      <td>0.383</td>\n",
              "      <td>0.868</td>\n",
              "      <td>7.6</td>\n",
              "      <td>0.156</td>\n",
              "    </tr>\n",
              "    <tr>\n",
              "      <th>4</th>\n",
              "      <td>5</td>\n",
              "      <td>Luka Dončić</td>\n",
              "      <td>22</td>\n",
              "      <td>DAL</td>\n",
              "      <td>0.0</td>\n",
              "      <td>146.0</td>\n",
              "      <td>1000</td>\n",
              "      <td>0.146</td>\n",
              "      <td>65</td>\n",
              "      <td>35.4</td>\n",
              "      <td>28.4</td>\n",
              "      <td>9.1</td>\n",
              "      <td>8.7</td>\n",
              "      <td>1.2</td>\n",
              "      <td>0.6</td>\n",
              "      <td>0.457</td>\n",
              "      <td>0.353</td>\n",
              "      <td>0.744</td>\n",
              "      <td>7.6</td>\n",
              "      <td>0.159</td>\n",
              "    </tr>\n",
              "    <tr>\n",
              "      <th>5</th>\n",
              "      <td>6</td>\n",
              "      <td>Jayson Tatum</td>\n",
              "      <td>23</td>\n",
              "      <td>BOS</td>\n",
              "      <td>0.0</td>\n",
              "      <td>43.0</td>\n",
              "      <td>1000</td>\n",
              "      <td>0.043</td>\n",
              "      <td>76</td>\n",
              "      <td>35.9</td>\n",
              "      <td>26.9</td>\n",
              "      <td>8.0</td>\n",
              "      <td>4.4</td>\n",
              "      <td>1.0</td>\n",
              "      <td>0.6</td>\n",
              "      <td>0.453</td>\n",
              "      <td>0.353</td>\n",
              "      <td>0.853</td>\n",
              "      <td>9.6</td>\n",
              "      <td>0.169</td>\n",
              "    </tr>\n",
              "    <tr>\n",
              "      <th>6</th>\n",
              "      <td>7</td>\n",
              "      <td>Ja Morant</td>\n",
              "      <td>22</td>\n",
              "      <td>MEM</td>\n",
              "      <td>0.0</td>\n",
              "      <td>10.0</td>\n",
              "      <td>1000</td>\n",
              "      <td>0.010</td>\n",
              "      <td>57</td>\n",
              "      <td>33.1</td>\n",
              "      <td>27.4</td>\n",
              "      <td>5.7</td>\n",
              "      <td>6.7</td>\n",
              "      <td>1.2</td>\n",
              "      <td>0.4</td>\n",
              "      <td>0.493</td>\n",
              "      <td>0.344</td>\n",
              "      <td>0.761</td>\n",
              "      <td>6.7</td>\n",
              "      <td>0.171</td>\n",
              "    </tr>\n",
              "    <tr>\n",
              "      <th>7</th>\n",
              "      <td>8</td>\n",
              "      <td>Stephen Curry</td>\n",
              "      <td>33</td>\n",
              "      <td>GSW</td>\n",
              "      <td>0.0</td>\n",
              "      <td>4.0</td>\n",
              "      <td>1000</td>\n",
              "      <td>0.004</td>\n",
              "      <td>64</td>\n",
              "      <td>34.5</td>\n",
              "      <td>25.5</td>\n",
              "      <td>5.2</td>\n",
              "      <td>6.3</td>\n",
              "      <td>1.3</td>\n",
              "      <td>0.4</td>\n",
              "      <td>0.437</td>\n",
              "      <td>0.380</td>\n",
              "      <td>0.923</td>\n",
              "      <td>8.0</td>\n",
              "      <td>0.173</td>\n",
              "    </tr>\n",
              "    <tr>\n",
              "      <th>8</th>\n",
              "      <td>9</td>\n",
              "      <td>Chris Paul</td>\n",
              "      <td>36</td>\n",
              "      <td>PHO</td>\n",
              "      <td>0.0</td>\n",
              "      <td>2.0</td>\n",
              "      <td>1000</td>\n",
              "      <td>0.002</td>\n",
              "      <td>65</td>\n",
              "      <td>32.9</td>\n",
              "      <td>14.7</td>\n",
              "      <td>4.4</td>\n",
              "      <td>10.8</td>\n",
              "      <td>1.9</td>\n",
              "      <td>0.3</td>\n",
              "      <td>0.493</td>\n",
              "      <td>0.317</td>\n",
              "      <td>0.837</td>\n",
              "      <td>9.4</td>\n",
              "      <td>0.210</td>\n",
              "    </tr>\n",
              "    <tr>\n",
              "      <th>9</th>\n",
              "      <td>10T</td>\n",
              "      <td>DeMar DeRozan</td>\n",
              "      <td>32</td>\n",
              "      <td>CHI</td>\n",
              "      <td>0.0</td>\n",
              "      <td>1.0</td>\n",
              "      <td>1000</td>\n",
              "      <td>0.001</td>\n",
              "      <td>76</td>\n",
              "      <td>36.1</td>\n",
              "      <td>27.9</td>\n",
              "      <td>5.2</td>\n",
              "      <td>4.9</td>\n",
              "      <td>0.9</td>\n",
              "      <td>0.3</td>\n",
              "      <td>0.504</td>\n",
              "      <td>0.352</td>\n",
              "      <td>0.877</td>\n",
              "      <td>8.8</td>\n",
              "      <td>0.154</td>\n",
              "    </tr>\n",
              "    <tr>\n",
              "      <th>10</th>\n",
              "      <td>10T</td>\n",
              "      <td>Kevin Durant</td>\n",
              "      <td>33</td>\n",
              "      <td>BRK</td>\n",
              "      <td>0.0</td>\n",
              "      <td>1.0</td>\n",
              "      <td>1000</td>\n",
              "      <td>0.001</td>\n",
              "      <td>55</td>\n",
              "      <td>37.2</td>\n",
              "      <td>29.9</td>\n",
              "      <td>7.4</td>\n",
              "      <td>6.4</td>\n",
              "      <td>0.9</td>\n",
              "      <td>0.9</td>\n",
              "      <td>0.518</td>\n",
              "      <td>0.383</td>\n",
              "      <td>0.910</td>\n",
              "      <td>8.4</td>\n",
              "      <td>0.198</td>\n",
              "    </tr>\n",
              "    <tr>\n",
              "      <th>11</th>\n",
              "      <td>10T</td>\n",
              "      <td>LeBron James</td>\n",
              "      <td>37</td>\n",
              "      <td>LAL</td>\n",
              "      <td>0.0</td>\n",
              "      <td>1.0</td>\n",
              "      <td>1000</td>\n",
              "      <td>0.001</td>\n",
              "      <td>56</td>\n",
              "      <td>37.2</td>\n",
              "      <td>30.3</td>\n",
              "      <td>8.2</td>\n",
              "      <td>6.2</td>\n",
              "      <td>1.3</td>\n",
              "      <td>1.1</td>\n",
              "      <td>0.524</td>\n",
              "      <td>0.359</td>\n",
              "      <td>0.756</td>\n",
              "      <td>7.5</td>\n",
              "      <td>0.172</td>\n",
              "    </tr>\n",
              "  </tbody>\n",
              "</table>\n",
              "</div>\n",
              "    <div class=\"colab-df-buttons\">\n",
              "\n",
              "  <div class=\"colab-df-container\">\n",
              "    <button class=\"colab-df-convert\" onclick=\"convertToInteractive('df-2c9e792f-fa7e-4675-b730-fb4945692e21')\"\n",
              "            title=\"Convert this dataframe to an interactive table.\"\n",
              "            style=\"display:none;\">\n",
              "\n",
              "  <svg xmlns=\"http://www.w3.org/2000/svg\" height=\"24px\" viewBox=\"0 -960 960 960\">\n",
              "    <path d=\"M120-120v-720h720v720H120Zm60-500h600v-160H180v160Zm220 220h160v-160H400v160Zm0 220h160v-160H400v160ZM180-400h160v-160H180v160Zm440 0h160v-160H620v160ZM180-180h160v-160H180v160Zm440 0h160v-160H620v160Z\"/>\n",
              "  </svg>\n",
              "    </button>\n",
              "\n",
              "  <style>\n",
              "    .colab-df-container {\n",
              "      display:flex;\n",
              "      gap: 12px;\n",
              "    }\n",
              "\n",
              "    .colab-df-convert {\n",
              "      background-color: #E8F0FE;\n",
              "      border: none;\n",
              "      border-radius: 50%;\n",
              "      cursor: pointer;\n",
              "      display: none;\n",
              "      fill: #1967D2;\n",
              "      height: 32px;\n",
              "      padding: 0 0 0 0;\n",
              "      width: 32px;\n",
              "    }\n",
              "\n",
              "    .colab-df-convert:hover {\n",
              "      background-color: #E2EBFA;\n",
              "      box-shadow: 0px 1px 2px rgba(60, 64, 67, 0.3), 0px 1px 3px 1px rgba(60, 64, 67, 0.15);\n",
              "      fill: #174EA6;\n",
              "    }\n",
              "\n",
              "    .colab-df-buttons div {\n",
              "      margin-bottom: 4px;\n",
              "    }\n",
              "\n",
              "    [theme=dark] .colab-df-convert {\n",
              "      background-color: #3B4455;\n",
              "      fill: #D2E3FC;\n",
              "    }\n",
              "\n",
              "    [theme=dark] .colab-df-convert:hover {\n",
              "      background-color: #434B5C;\n",
              "      box-shadow: 0px 1px 3px 1px rgba(0, 0, 0, 0.15);\n",
              "      filter: drop-shadow(0px 1px 2px rgba(0, 0, 0, 0.3));\n",
              "      fill: #FFFFFF;\n",
              "    }\n",
              "  </style>\n",
              "\n",
              "    <script>\n",
              "      const buttonEl =\n",
              "        document.querySelector('#df-2c9e792f-fa7e-4675-b730-fb4945692e21 button.colab-df-convert');\n",
              "      buttonEl.style.display =\n",
              "        google.colab.kernel.accessAllowed ? 'block' : 'none';\n",
              "\n",
              "      async function convertToInteractive(key) {\n",
              "        const element = document.querySelector('#df-2c9e792f-fa7e-4675-b730-fb4945692e21');\n",
              "        const dataTable =\n",
              "          await google.colab.kernel.invokeFunction('convertToInteractive',\n",
              "                                                    [key], {});\n",
              "        if (!dataTable) return;\n",
              "\n",
              "        const docLinkHtml = 'Like what you see? Visit the ' +\n",
              "          '<a target=\"_blank\" href=https://colab.research.google.com/notebooks/data_table.ipynb>data table notebook</a>'\n",
              "          + ' to learn more about interactive tables.';\n",
              "        element.innerHTML = '';\n",
              "        dataTable['output_type'] = 'display_data';\n",
              "        await google.colab.output.renderOutput(dataTable, element);\n",
              "        const docLink = document.createElement('div');\n",
              "        docLink.innerHTML = docLinkHtml;\n",
              "        element.appendChild(docLink);\n",
              "      }\n",
              "    </script>\n",
              "  </div>\n",
              "\n",
              "\n",
              "<div id=\"df-78ed285f-01f5-4ef5-9365-ca5732f1ca80\">\n",
              "  <button class=\"colab-df-quickchart\" onclick=\"quickchart('df-78ed285f-01f5-4ef5-9365-ca5732f1ca80')\"\n",
              "            title=\"Suggest charts\"\n",
              "            style=\"display:none;\">\n",
              "\n",
              "<svg xmlns=\"http://www.w3.org/2000/svg\" height=\"24px\"viewBox=\"0 0 24 24\"\n",
              "     width=\"24px\">\n",
              "    <g>\n",
              "        <path d=\"M19 3H5c-1.1 0-2 .9-2 2v14c0 1.1.9 2 2 2h14c1.1 0 2-.9 2-2V5c0-1.1-.9-2-2-2zM9 17H7v-7h2v7zm4 0h-2V7h2v10zm4 0h-2v-4h2v4z\"/>\n",
              "    </g>\n",
              "</svg>\n",
              "  </button>\n",
              "\n",
              "<style>\n",
              "  .colab-df-quickchart {\n",
              "      --bg-color: #E8F0FE;\n",
              "      --fill-color: #1967D2;\n",
              "      --hover-bg-color: #E2EBFA;\n",
              "      --hover-fill-color: #174EA6;\n",
              "      --disabled-fill-color: #AAA;\n",
              "      --disabled-bg-color: #DDD;\n",
              "  }\n",
              "\n",
              "  [theme=dark] .colab-df-quickchart {\n",
              "      --bg-color: #3B4455;\n",
              "      --fill-color: #D2E3FC;\n",
              "      --hover-bg-color: #434B5C;\n",
              "      --hover-fill-color: #FFFFFF;\n",
              "      --disabled-bg-color: #3B4455;\n",
              "      --disabled-fill-color: #666;\n",
              "  }\n",
              "\n",
              "  .colab-df-quickchart {\n",
              "    background-color: var(--bg-color);\n",
              "    border: none;\n",
              "    border-radius: 50%;\n",
              "    cursor: pointer;\n",
              "    display: none;\n",
              "    fill: var(--fill-color);\n",
              "    height: 32px;\n",
              "    padding: 0;\n",
              "    width: 32px;\n",
              "  }\n",
              "\n",
              "  .colab-df-quickchart:hover {\n",
              "    background-color: var(--hover-bg-color);\n",
              "    box-shadow: 0 1px 2px rgba(60, 64, 67, 0.3), 0 1px 3px 1px rgba(60, 64, 67, 0.15);\n",
              "    fill: var(--button-hover-fill-color);\n",
              "  }\n",
              "\n",
              "  .colab-df-quickchart-complete:disabled,\n",
              "  .colab-df-quickchart-complete:disabled:hover {\n",
              "    background-color: var(--disabled-bg-color);\n",
              "    fill: var(--disabled-fill-color);\n",
              "    box-shadow: none;\n",
              "  }\n",
              "\n",
              "  .colab-df-spinner {\n",
              "    border: 2px solid var(--fill-color);\n",
              "    border-color: transparent;\n",
              "    border-bottom-color: var(--fill-color);\n",
              "    animation:\n",
              "      spin 1s steps(1) infinite;\n",
              "  }\n",
              "\n",
              "  @keyframes spin {\n",
              "    0% {\n",
              "      border-color: transparent;\n",
              "      border-bottom-color: var(--fill-color);\n",
              "      border-left-color: var(--fill-color);\n",
              "    }\n",
              "    20% {\n",
              "      border-color: transparent;\n",
              "      border-left-color: var(--fill-color);\n",
              "      border-top-color: var(--fill-color);\n",
              "    }\n",
              "    30% {\n",
              "      border-color: transparent;\n",
              "      border-left-color: var(--fill-color);\n",
              "      border-top-color: var(--fill-color);\n",
              "      border-right-color: var(--fill-color);\n",
              "    }\n",
              "    40% {\n",
              "      border-color: transparent;\n",
              "      border-right-color: var(--fill-color);\n",
              "      border-top-color: var(--fill-color);\n",
              "    }\n",
              "    60% {\n",
              "      border-color: transparent;\n",
              "      border-right-color: var(--fill-color);\n",
              "    }\n",
              "    80% {\n",
              "      border-color: transparent;\n",
              "      border-right-color: var(--fill-color);\n",
              "      border-bottom-color: var(--fill-color);\n",
              "    }\n",
              "    90% {\n",
              "      border-color: transparent;\n",
              "      border-bottom-color: var(--fill-color);\n",
              "    }\n",
              "  }\n",
              "</style>\n",
              "\n",
              "  <script>\n",
              "    async function quickchart(key) {\n",
              "      const quickchartButtonEl =\n",
              "        document.querySelector('#' + key + ' button');\n",
              "      quickchartButtonEl.disabled = true;  // To prevent multiple clicks.\n",
              "      quickchartButtonEl.classList.add('colab-df-spinner');\n",
              "      try {\n",
              "        const charts = await google.colab.kernel.invokeFunction(\n",
              "            'suggestCharts', [key], {});\n",
              "      } catch (error) {\n",
              "        console.error('Error during call to suggestCharts:', error);\n",
              "      }\n",
              "      quickchartButtonEl.classList.remove('colab-df-spinner');\n",
              "      quickchartButtonEl.classList.add('colab-df-quickchart-complete');\n",
              "    }\n",
              "    (() => {\n",
              "      let quickchartButtonEl =\n",
              "        document.querySelector('#df-78ed285f-01f5-4ef5-9365-ca5732f1ca80 button');\n",
              "      quickchartButtonEl.style.display =\n",
              "        google.colab.kernel.accessAllowed ? 'block' : 'none';\n",
              "    })();\n",
              "  </script>\n",
              "</div>\n",
              "    </div>\n",
              "  </div>\n"
            ],
            "application/vnd.google.colaboratory.intrinsic+json": {
              "type": "dataframe",
              "summary": "{\n  \"name\": \"top_mvp_cands(2022)\",\n  \"rows\": 12,\n  \"fields\": [\n    {\n      \"column\": \"Rank\",\n      \"properties\": {\n        \"dtype\": \"string\",\n        \"num_unique_values\": 10,\n        \"samples\": [\n          \"9\",\n          \"2\",\n          \"6\"\n        ],\n        \"semantic_type\": \"\",\n        \"description\": \"\"\n      }\n    },\n    {\n      \"column\": \"Player\",\n      \"properties\": {\n        \"dtype\": \"string\",\n        \"num_unique_values\": 12,\n        \"samples\": [\n          \"Kevin Durant\",\n          \"DeMar DeRozan\",\n          \"Nikola Joki\\u0107\"\n        ],\n        \"semantic_type\": \"\",\n        \"description\": \"\"\n      }\n    },\n    {\n      \"column\": \"Age\",\n      \"properties\": {\n        \"dtype\": \"number\",\n        \"std\": 5,\n        \"min\": 22,\n        \"max\": 37,\n        \"num_unique_values\": 9,\n        \"samples\": [\n          32,\n          27,\n          33\n        ],\n        \"semantic_type\": \"\",\n        \"description\": \"\"\n      }\n    },\n    {\n      \"column\": \"Tm\",\n      \"properties\": {\n        \"dtype\": \"string\",\n        \"num_unique_values\": 11,\n        \"samples\": [\n          \"BOS\",\n          \"DEN\",\n          \"BRK\"\n        ],\n        \"semantic_type\": \"\",\n        \"description\": \"\"\n      }\n    },\n    {\n      \"column\": \"First\",\n      \"properties\": {\n        \"dtype\": \"number\",\n        \"std\": 19.420389160660893,\n        \"min\": 0.0,\n        \"max\": 65.0,\n        \"num_unique_values\": 4,\n        \"samples\": [\n          26.0,\n          0.0,\n          65.0\n        ],\n        \"semantic_type\": \"\",\n        \"description\": \"\"\n      }\n    },\n    {\n      \"column\": \"Pts Won\",\n      \"properties\": {\n        \"dtype\": \"number\",\n        \"std\": 319.75795770418523,\n        \"min\": 1.0,\n        \"max\": 875.0,\n        \"num_unique_values\": 10,\n        \"samples\": [\n          2.0,\n          706.0,\n          43.0\n        ],\n        \"semantic_type\": \"\",\n        \"description\": \"\"\n      }\n    },\n    {\n      \"column\": \"Pts Max\",\n      \"properties\": {\n        \"dtype\": \"number\",\n        \"std\": 0,\n        \"min\": 1000,\n        \"max\": 1000,\n        \"num_unique_values\": 1,\n        \"samples\": [\n          1000\n        ],\n        \"semantic_type\": \"\",\n        \"description\": \"\"\n      }\n    },\n    {\n      \"column\": \"Share\",\n      \"properties\": {\n        \"dtype\": \"number\",\n        \"std\": 0.31975795770418525,\n        \"min\": 0.001,\n        \"max\": 0.875,\n        \"num_unique_values\": 10,\n        \"samples\": [\n          0.002\n        ],\n        \"semantic_type\": \"\",\n        \"description\": \"\"\n      }\n    },\n    {\n      \"column\": \"G\",\n      \"properties\": {\n        \"dtype\": \"number\",\n        \"std\": 7,\n        \"min\": 55,\n        \"max\": 76,\n        \"num_unique_values\": 9,\n        \"samples\": [\n          55\n        ],\n        \"semantic_type\": \"\",\n        \"description\": \"\"\n      }\n    },\n    {\n      \"column\": \"MP\",\n      \"properties\": {\n        \"dtype\": \"number\",\n        \"std\": 1.58773709754137,\n        \"min\": 32.9,\n        \"max\": 37.2,\n        \"num_unique_values\": 9,\n        \"samples\": [\n          36.1\n        ],\n        \"semantic_type\": \"\",\n        \"description\": \"\"\n      }\n    },\n    {\n      \"column\": \"PTS\",\n      \"properties\": {\n        \"dtype\": \"number\",\n        \"std\": 4.23230720085679,\n        \"min\": 14.7,\n        \"max\": 30.6,\n        \"num_unique_values\": 11,\n        \"samples\": [\n          26.9\n        ],\n        \"semantic_type\": \"\",\n        \"description\": \"\"\n      }\n    },\n    {\n      \"column\": \"TRB\",\n      \"properties\": {\n        \"dtype\": \"number\",\n        \"std\": 3.086468512521694,\n        \"min\": 4.4,\n        \"max\": 13.8,\n        \"num_unique_values\": 11,\n        \"samples\": [\n          8.0\n        ],\n        \"semantic_type\": \"\",\n        \"description\": \"\"\n      }\n    },\n    {\n      \"column\": \"AST\",\n      \"properties\": {\n        \"dtype\": \"number\",\n        \"std\": 1.931614962573122,\n        \"min\": 4.2,\n        \"max\": 10.8,\n        \"num_unique_values\": 12,\n        \"samples\": [\n          6.4\n        ],\n        \"semantic_type\": \"\",\n        \"description\": \"\"\n      }\n    },\n    {\n      \"column\": \"STL\",\n      \"properties\": {\n        \"dtype\": \"number\",\n        \"std\": 0.27784342658585554,\n        \"min\": 0.9,\n        \"max\": 1.9,\n        \"num_unique_values\": 7,\n        \"samples\": [\n          1.5\n        ],\n        \"semantic_type\": \"\",\n        \"description\": \"\"\n      }\n    },\n    {\n      \"column\": \"BLK\",\n      \"properties\": {\n        \"dtype\": \"number\",\n        \"std\": 0.42283315715288794,\n        \"min\": 0.3,\n        \"max\": 1.5,\n        \"num_unique_values\": 7,\n        \"samples\": [\n          0.9\n        ],\n        \"semantic_type\": \"\",\n        \"description\": \"\"\n      }\n    },\n    {\n      \"column\": \"FG%\",\n      \"properties\": {\n        \"dtype\": \"number\",\n        \"std\": 0.04249349326305111,\n        \"min\": 0.437,\n        \"max\": 0.583,\n        \"num_unique_values\": 11,\n        \"samples\": [\n          0.453\n        ],\n        \"semantic_type\": \"\",\n        \"description\": \"\"\n      }\n    },\n    {\n      \"column\": \"3P%\",\n      \"properties\": {\n        \"dtype\": \"number\",\n        \"std\": 0.027157648624059467,\n        \"min\": 0.293,\n        \"max\": 0.383,\n        \"num_unique_values\": 10,\n        \"samples\": [\n          0.352\n        ],\n        \"semantic_type\": \"\",\n        \"description\": \"\"\n      }\n    },\n    {\n      \"column\": \"FT%\",\n      \"properties\": {\n        \"dtype\": \"number\",\n        \"std\": 0.0664905438708575,\n        \"min\": 0.722,\n        \"max\": 0.923,\n        \"num_unique_values\": 12,\n        \"samples\": [\n          0.91\n        ],\n        \"semantic_type\": \"\",\n        \"description\": \"\"\n      }\n    },\n    {\n      \"column\": \"WS\",\n      \"properties\": {\n        \"dtype\": \"number\",\n        \"std\": 2.581798175338618,\n        \"min\": 6.7,\n        \"max\": 15.2,\n        \"num_unique_values\": 11,\n        \"samples\": [\n          6.7\n        ],\n        \"semantic_type\": \"\",\n        \"description\": \"\"\n      }\n    },\n    {\n      \"column\": \"WS/48\",\n      \"properties\": {\n        \"dtype\": \"number\",\n        \"std\": 0.0501146413009938,\n        \"min\": 0.154,\n        \"max\": 0.296,\n        \"num_unique_values\": 12,\n        \"samples\": [\n          0.198\n        ],\n        \"semantic_type\": \"\",\n        \"description\": \"\"\n      }\n    }\n  ]\n}"
            }
          },
          "metadata": {},
          "execution_count": 4
        }
      ]
    },
    {
      "cell_type": "markdown",
      "source": [
        "Whoa, that's pretty cool! But that's still more information than we need. Lucky for us, we can use Pandas to select precisely the columns that we're interested in. We want to track voting rank, player name, and vote shares:"
      ],
      "metadata": {
        "id": "3FSRW9-Ay9l_"
      }
    },
    {
      "cell_type": "code",
      "source": [
        "top_mvp_cands(2022)[[\"Rank\",\"Player\",\"Share\"]].head(5)"
      ],
      "metadata": {
        "id": "l2-KEZ7EynRO",
        "outputId": "4a272729-61b5-46fc-f3e7-849f506883e5",
        "colab": {
          "base_uri": "https://localhost:8080/",
          "height": 206
        },
        "collapsed": true
      },
      "execution_count": null,
      "outputs": [
        {
          "output_type": "execute_result",
          "data": {
            "text/plain": [
              "  Rank                 Player  Share\n",
              "0    1           Nikola Jokić  0.875\n",
              "1    2            Joel Embiid  0.706\n",
              "2    3  Giannis Antetokounmpo  0.595\n",
              "3    4           Devin Booker  0.216\n",
              "4    5            Luka Dončić  0.146"
            ],
            "text/html": [
              "\n",
              "  <div id=\"df-c6a92dd6-087b-45d3-a7e2-c889749669f3\" class=\"colab-df-container\">\n",
              "    <div>\n",
              "<style scoped>\n",
              "    .dataframe tbody tr th:only-of-type {\n",
              "        vertical-align: middle;\n",
              "    }\n",
              "\n",
              "    .dataframe tbody tr th {\n",
              "        vertical-align: top;\n",
              "    }\n",
              "\n",
              "    .dataframe thead th {\n",
              "        text-align: right;\n",
              "    }\n",
              "</style>\n",
              "<table border=\"1\" class=\"dataframe\">\n",
              "  <thead>\n",
              "    <tr style=\"text-align: right;\">\n",
              "      <th></th>\n",
              "      <th>Rank</th>\n",
              "      <th>Player</th>\n",
              "      <th>Share</th>\n",
              "    </tr>\n",
              "  </thead>\n",
              "  <tbody>\n",
              "    <tr>\n",
              "      <th>0</th>\n",
              "      <td>1</td>\n",
              "      <td>Nikola Jokić</td>\n",
              "      <td>0.875</td>\n",
              "    </tr>\n",
              "    <tr>\n",
              "      <th>1</th>\n",
              "      <td>2</td>\n",
              "      <td>Joel Embiid</td>\n",
              "      <td>0.706</td>\n",
              "    </tr>\n",
              "    <tr>\n",
              "      <th>2</th>\n",
              "      <td>3</td>\n",
              "      <td>Giannis Antetokounmpo</td>\n",
              "      <td>0.595</td>\n",
              "    </tr>\n",
              "    <tr>\n",
              "      <th>3</th>\n",
              "      <td>4</td>\n",
              "      <td>Devin Booker</td>\n",
              "      <td>0.216</td>\n",
              "    </tr>\n",
              "    <tr>\n",
              "      <th>4</th>\n",
              "      <td>5</td>\n",
              "      <td>Luka Dončić</td>\n",
              "      <td>0.146</td>\n",
              "    </tr>\n",
              "  </tbody>\n",
              "</table>\n",
              "</div>\n",
              "    <div class=\"colab-df-buttons\">\n",
              "\n",
              "  <div class=\"colab-df-container\">\n",
              "    <button class=\"colab-df-convert\" onclick=\"convertToInteractive('df-c6a92dd6-087b-45d3-a7e2-c889749669f3')\"\n",
              "            title=\"Convert this dataframe to an interactive table.\"\n",
              "            style=\"display:none;\">\n",
              "\n",
              "  <svg xmlns=\"http://www.w3.org/2000/svg\" height=\"24px\" viewBox=\"0 -960 960 960\">\n",
              "    <path d=\"M120-120v-720h720v720H120Zm60-500h600v-160H180v160Zm220 220h160v-160H400v160Zm0 220h160v-160H400v160ZM180-400h160v-160H180v160Zm440 0h160v-160H620v160ZM180-180h160v-160H180v160Zm440 0h160v-160H620v160Z\"/>\n",
              "  </svg>\n",
              "    </button>\n",
              "\n",
              "  <style>\n",
              "    .colab-df-container {\n",
              "      display:flex;\n",
              "      gap: 12px;\n",
              "    }\n",
              "\n",
              "    .colab-df-convert {\n",
              "      background-color: #E8F0FE;\n",
              "      border: none;\n",
              "      border-radius: 50%;\n",
              "      cursor: pointer;\n",
              "      display: none;\n",
              "      fill: #1967D2;\n",
              "      height: 32px;\n",
              "      padding: 0 0 0 0;\n",
              "      width: 32px;\n",
              "    }\n",
              "\n",
              "    .colab-df-convert:hover {\n",
              "      background-color: #E2EBFA;\n",
              "      box-shadow: 0px 1px 2px rgba(60, 64, 67, 0.3), 0px 1px 3px 1px rgba(60, 64, 67, 0.15);\n",
              "      fill: #174EA6;\n",
              "    }\n",
              "\n",
              "    .colab-df-buttons div {\n",
              "      margin-bottom: 4px;\n",
              "    }\n",
              "\n",
              "    [theme=dark] .colab-df-convert {\n",
              "      background-color: #3B4455;\n",
              "      fill: #D2E3FC;\n",
              "    }\n",
              "\n",
              "    [theme=dark] .colab-df-convert:hover {\n",
              "      background-color: #434B5C;\n",
              "      box-shadow: 0px 1px 3px 1px rgba(0, 0, 0, 0.15);\n",
              "      filter: drop-shadow(0px 1px 2px rgba(0, 0, 0, 0.3));\n",
              "      fill: #FFFFFF;\n",
              "    }\n",
              "  </style>\n",
              "\n",
              "    <script>\n",
              "      const buttonEl =\n",
              "        document.querySelector('#df-c6a92dd6-087b-45d3-a7e2-c889749669f3 button.colab-df-convert');\n",
              "      buttonEl.style.display =\n",
              "        google.colab.kernel.accessAllowed ? 'block' : 'none';\n",
              "\n",
              "      async function convertToInteractive(key) {\n",
              "        const element = document.querySelector('#df-c6a92dd6-087b-45d3-a7e2-c889749669f3');\n",
              "        const dataTable =\n",
              "          await google.colab.kernel.invokeFunction('convertToInteractive',\n",
              "                                                    [key], {});\n",
              "        if (!dataTable) return;\n",
              "\n",
              "        const docLinkHtml = 'Like what you see? Visit the ' +\n",
              "          '<a target=\"_blank\" href=https://colab.research.google.com/notebooks/data_table.ipynb>data table notebook</a>'\n",
              "          + ' to learn more about interactive tables.';\n",
              "        element.innerHTML = '';\n",
              "        dataTable['output_type'] = 'display_data';\n",
              "        await google.colab.output.renderOutput(dataTable, element);\n",
              "        const docLink = document.createElement('div');\n",
              "        docLink.innerHTML = docLinkHtml;\n",
              "        element.appendChild(docLink);\n",
              "      }\n",
              "    </script>\n",
              "  </div>\n",
              "\n",
              "\n",
              "<div id=\"df-2aa0bb44-8b48-4c95-aaae-f43c33424b00\">\n",
              "  <button class=\"colab-df-quickchart\" onclick=\"quickchart('df-2aa0bb44-8b48-4c95-aaae-f43c33424b00')\"\n",
              "            title=\"Suggest charts\"\n",
              "            style=\"display:none;\">\n",
              "\n",
              "<svg xmlns=\"http://www.w3.org/2000/svg\" height=\"24px\"viewBox=\"0 0 24 24\"\n",
              "     width=\"24px\">\n",
              "    <g>\n",
              "        <path d=\"M19 3H5c-1.1 0-2 .9-2 2v14c0 1.1.9 2 2 2h14c1.1 0 2-.9 2-2V5c0-1.1-.9-2-2-2zM9 17H7v-7h2v7zm4 0h-2V7h2v10zm4 0h-2v-4h2v4z\"/>\n",
              "    </g>\n",
              "</svg>\n",
              "  </button>\n",
              "\n",
              "<style>\n",
              "  .colab-df-quickchart {\n",
              "      --bg-color: #E8F0FE;\n",
              "      --fill-color: #1967D2;\n",
              "      --hover-bg-color: #E2EBFA;\n",
              "      --hover-fill-color: #174EA6;\n",
              "      --disabled-fill-color: #AAA;\n",
              "      --disabled-bg-color: #DDD;\n",
              "  }\n",
              "\n",
              "  [theme=dark] .colab-df-quickchart {\n",
              "      --bg-color: #3B4455;\n",
              "      --fill-color: #D2E3FC;\n",
              "      --hover-bg-color: #434B5C;\n",
              "      --hover-fill-color: #FFFFFF;\n",
              "      --disabled-bg-color: #3B4455;\n",
              "      --disabled-fill-color: #666;\n",
              "  }\n",
              "\n",
              "  .colab-df-quickchart {\n",
              "    background-color: var(--bg-color);\n",
              "    border: none;\n",
              "    border-radius: 50%;\n",
              "    cursor: pointer;\n",
              "    display: none;\n",
              "    fill: var(--fill-color);\n",
              "    height: 32px;\n",
              "    padding: 0;\n",
              "    width: 32px;\n",
              "  }\n",
              "\n",
              "  .colab-df-quickchart:hover {\n",
              "    background-color: var(--hover-bg-color);\n",
              "    box-shadow: 0 1px 2px rgba(60, 64, 67, 0.3), 0 1px 3px 1px rgba(60, 64, 67, 0.15);\n",
              "    fill: var(--button-hover-fill-color);\n",
              "  }\n",
              "\n",
              "  .colab-df-quickchart-complete:disabled,\n",
              "  .colab-df-quickchart-complete:disabled:hover {\n",
              "    background-color: var(--disabled-bg-color);\n",
              "    fill: var(--disabled-fill-color);\n",
              "    box-shadow: none;\n",
              "  }\n",
              "\n",
              "  .colab-df-spinner {\n",
              "    border: 2px solid var(--fill-color);\n",
              "    border-color: transparent;\n",
              "    border-bottom-color: var(--fill-color);\n",
              "    animation:\n",
              "      spin 1s steps(1) infinite;\n",
              "  }\n",
              "\n",
              "  @keyframes spin {\n",
              "    0% {\n",
              "      border-color: transparent;\n",
              "      border-bottom-color: var(--fill-color);\n",
              "      border-left-color: var(--fill-color);\n",
              "    }\n",
              "    20% {\n",
              "      border-color: transparent;\n",
              "      border-left-color: var(--fill-color);\n",
              "      border-top-color: var(--fill-color);\n",
              "    }\n",
              "    30% {\n",
              "      border-color: transparent;\n",
              "      border-left-color: var(--fill-color);\n",
              "      border-top-color: var(--fill-color);\n",
              "      border-right-color: var(--fill-color);\n",
              "    }\n",
              "    40% {\n",
              "      border-color: transparent;\n",
              "      border-right-color: var(--fill-color);\n",
              "      border-top-color: var(--fill-color);\n",
              "    }\n",
              "    60% {\n",
              "      border-color: transparent;\n",
              "      border-right-color: var(--fill-color);\n",
              "    }\n",
              "    80% {\n",
              "      border-color: transparent;\n",
              "      border-right-color: var(--fill-color);\n",
              "      border-bottom-color: var(--fill-color);\n",
              "    }\n",
              "    90% {\n",
              "      border-color: transparent;\n",
              "      border-bottom-color: var(--fill-color);\n",
              "    }\n",
              "  }\n",
              "</style>\n",
              "\n",
              "  <script>\n",
              "    async function quickchart(key) {\n",
              "      const quickchartButtonEl =\n",
              "        document.querySelector('#' + key + ' button');\n",
              "      quickchartButtonEl.disabled = true;  // To prevent multiple clicks.\n",
              "      quickchartButtonEl.classList.add('colab-df-spinner');\n",
              "      try {\n",
              "        const charts = await google.colab.kernel.invokeFunction(\n",
              "            'suggestCharts', [key], {});\n",
              "      } catch (error) {\n",
              "        console.error('Error during call to suggestCharts:', error);\n",
              "      }\n",
              "      quickchartButtonEl.classList.remove('colab-df-spinner');\n",
              "      quickchartButtonEl.classList.add('colab-df-quickchart-complete');\n",
              "    }\n",
              "    (() => {\n",
              "      let quickchartButtonEl =\n",
              "        document.querySelector('#df-2aa0bb44-8b48-4c95-aaae-f43c33424b00 button');\n",
              "      quickchartButtonEl.style.display =\n",
              "        google.colab.kernel.accessAllowed ? 'block' : 'none';\n",
              "    })();\n",
              "  </script>\n",
              "</div>\n",
              "    </div>\n",
              "  </div>\n"
            ],
            "application/vnd.google.colaboratory.intrinsic+json": {
              "type": "dataframe",
              "summary": "{\n  \"name\": \"top_mvp_cands(2022)[[\\\"Rank\\\",\\\"Player\\\",\\\"Share\\\"]]\",\n  \"rows\": 5,\n  \"fields\": [\n    {\n      \"column\": \"Rank\",\n      \"properties\": {\n        \"dtype\": \"string\",\n        \"num_unique_values\": 5,\n        \"samples\": [\n          \"2\",\n          \"5\",\n          \"3\"\n        ],\n        \"semantic_type\": \"\",\n        \"description\": \"\"\n      }\n    },\n    {\n      \"column\": \"Player\",\n      \"properties\": {\n        \"dtype\": \"string\",\n        \"num_unique_values\": 5,\n        \"samples\": [\n          \"Joel Embiid\",\n          \"Luka Don\\u010di\\u0107\",\n          \"Giannis Antetokounmpo\"\n        ],\n        \"semantic_type\": \"\",\n        \"description\": \"\"\n      }\n    },\n    {\n      \"column\": \"Share\",\n      \"properties\": {\n        \"dtype\": \"number\",\n        \"std\": 0.31534473199975926,\n        \"min\": 0.146,\n        \"max\": 0.875,\n        \"num_unique_values\": 5,\n        \"samples\": [\n          0.706,\n          0.146,\n          0.595\n        ],\n        \"semantic_type\": \"\",\n        \"description\": \"\"\n      }\n    }\n  ]\n}"
            }
          },
          "metadata": {},
          "execution_count": 5
        }
      ]
    },
    {
      "cell_type": "markdown",
      "source": [
        "We were able to filter out the columns that we didn't need! We only selected the columns [\"Rank\", \"Player\", \"Share\"] from the original dataframe. Furthermore, we used the .head() method to grab the first five rows, corresponding to the top five players in MVP voting."
      ],
      "metadata": {
        "id": "f12jJo724IaS"
      }
    },
    {
      "cell_type": "markdown",
      "source": [
        "Now that we can obtain the top five MVP candidates, we want to collect their statistics from NBA API and structure them in a way that makes training our neural network easier. The statistics we will collect are the following:\n",
        "\n",
        "*   Wins\n",
        "*   Losses\n",
        "*   Win percentage\n",
        "*   Points per game\n",
        "*   Rebounds per game\n",
        "*   Assists per game\n",
        "*   Steals per game\n",
        "*   Blocks per game\n",
        "*   Turnovers per game\n",
        "*   Plus-minus\n",
        "\n",
        "We chose these stats as they are thought to have some correlation to which player wins the MVP, and because they are easily available via NBA API. We'll use MVP vote rank as the true output labels to train our neural network and we'll use the other stats as input data. This means that we want our model to learn where a player will place in MVP voting given their stats. We're getting ahead of ourselves though! Back to getting the data we need."
      ],
      "metadata": {
        "id": "1bnlxmB34-9O"
      }
    },
    {
      "cell_type": "code",
      "execution_count": null,
      "metadata": {
        "id": "NupuX3Wue9u9"
      },
      "outputs": [],
      "source": [
        "model_input = ['W', 'L', 'W_PCT', 'REB', 'AST', 'TOV', 'STL', 'BLK', 'PTS', 'PLUS_MINUS']\n",
        "model_output = ['Rank']"
      ]
    },
    {
      "cell_type": "code",
      "execution_count": null,
      "metadata": {
        "id": "uq-HPt7Ve9vA"
      },
      "outputs": [],
      "source": [
        "# Per game endpoint\n",
        "from nba_api.stats.endpoints import leaguedashplayerstats  # https://github.com/swar/nba_api/blob/master/docs/nba_api/stats/endpoints/leaguedashplayerstats.md\n",
        "\n",
        "def get_player_stats(season,\n",
        "                     season_type=\"Regular Season\",\n",
        "                     per_mode=\"PerGame\",\n",
        "                     starter=\"Starters\",\n",
        "                     stat_type=\"Base\"):\n",
        "  \"\"\"\n",
        "  get_player_stats() pulls player statistics from NBA API.\n",
        "\n",
        "  Parameters:\n",
        "  season (int): the season to pull data from.\n",
        "  season_type (string): selects regular season stats.\n",
        "  per_mode (string): denotes per-game stats.\n",
        "  starter (string): only includes players who start.\n",
        "  stat_type (string): denotes basic stats.\n",
        "\n",
        "  Returns:\n",
        "  player_stats_df (Pandas dataframe): a table displaying the players\n",
        "  and their statistics\n",
        "  \"\"\"\n",
        "\n",
        "  player_stats = leaguedashplayerstats.LeagueDashPlayerStats(season=season,  # Get stats from NBA API\n",
        "                                                              season_type_all_star=season_type,\n",
        "                                                              per_mode_detailed=per_mode,\n",
        "                                                              starter_bench_nullable=starter,\n",
        "                                                              measure_type_detailed_defense=stat_type)\n",
        "\n",
        "  player_stats_df = pd.concat(player_stats.get_data_frames())  # Convert to Pandas dataframe\n",
        "\n",
        "  return player_stats_df"
      ]
    },
    {
      "cell_type": "markdown",
      "source": [
        "This method gives us the framework to pull player statistics from NBA API. We convert each player_stats object into a Pandas dataframe, which we then concatenate into a single dataframe that contains all the player statistics that we wish to collect. Now let's gather all the data we need to train our model!"
      ],
      "metadata": {
        "id": "pq-i1Tnl-1Hq"
      }
    },
    {
      "cell_type": "code",
      "source": [
        "# Running this block of code takes 3 minutes due to Basketball-Reference's rate limiting\n",
        "collection = pd.DataFrame()\n",
        "for year in range(1997,2024):\n",
        "  season = f\"{year - 1}-{year % 100:02}\"  # Reformat season (e.g. 2021-22)\n",
        "\n",
        "  # Get top five MVP candidates\n",
        "  mvp_cands = top_mvp_cands(year)\n",
        "  mvp_cands = mvp_cands.head(5)\n",
        "  mvp_cands[\"Player\"] = mvp_cands[\"Player\"].apply(unidecode)  # Clean up accent marks in player names\n",
        "\n",
        "  # Get their stats\n",
        "  stats = get_player_stats(season)\n",
        "\n",
        "  # Select player names\n",
        "  player_names = mvp_cands[\"Player\"].values\n",
        "\n",
        "  # Ensures index corresponds to player names\n",
        "  mvp_cands = mvp_cands.set_index(player_names)\n",
        "\n",
        "  # Ensures the stats we collect corresond to MVP candidates\n",
        "  stats = stats[stats['PLAYER_NAME'].isin(player_names)].reset_index()\n",
        "\n",
        "  # Again, ensures index corresponds to player names\n",
        "  stats = stats.set_index(stats['PLAYER_NAME'].values)\n",
        "\n",
        "  # Create new dataframe for player stats\n",
        "  numerical_df = stats.iloc[:, 6:]  # Throw out non-numerical values\n",
        "  numerical_df = pd.concat([mvp_cands[[\"Rank\",\"Share\"]], numerical_df], axis=1)  # Add MVP vote rank and MVP vote shares columns to dataframe\n",
        "\n",
        "  # Add player stats to multi-season dataframe\n",
        "  collection = pd.concat([collection, numerical_df])\n",
        "\n",
        "# Save all the data to a .csv file\n",
        "collection.to_csv('mvp_data.csv')"
      ],
      "metadata": {
        "id": "68RLes8S_0mM"
      },
      "execution_count": null,
      "outputs": []
    },
    {
      "cell_type": "markdown",
      "source": [
        "In this last block of code, we iterated over every season that we're collecting data from. For each season, we selected the top five MVP candidates using top_mvp_cands() and grabbed their stats using get_player_stats(). We then created a new dataframe called \"numerical_df\" where we compiled all numerical data that we'll feed to our neural network. We used the Pandas [.iloc](https://pandas.pydata.org/docs/reference/api/pandas.DataFrame.iloc.html) method to index into our \"stats\" dataframe and add all numerical values to \"numerical_df\". Then, we added MVP vote rank and MVP vote shares data from our \"mvp_cands\" dataframe as well. Finally, we added \"numerical_df\" to a larger dataframe that contains statistics from every season."
      ],
      "metadata": {
        "id": "2zC44DQYGWZ2"
      }
    },
    {
      "cell_type": "markdown",
      "source": [
        "While we will use MVP vote rank as the output label for our neural network, we also included the framework for using MVP vote shares instead. Our initial plan was to focus on vote shares but this approach led to some problems.\n",
        "\n",
        "First of all, vote shares don't work in the most intuitive way. The votes are scored from first to fifth place on ballots, but shares are earned from each placement, meaning the total shares between players add up to more than 100%, where an individual score of 100% means the player earned all first place votes for MVP that season. Secondly, we found using vote shares to be less accurate than using ranking in terms of model output. The results are reasonable but a bit worse. If you want an extra challenge, you can try to alter our code to predict the MVP with vote shares instead of rank by changing the value in the model_output list to \"Share\".\n",
        "\n",
        "For more information on vote shares you can look at the [Basketball-Reference](https://www.basketball-reference.com/awards/awards_2023.html) award voting page or the official [NBA voter ballots](https://pr.nba.com/voting-results-2022-23-nba-regular-season-awards/)."
      ],
      "metadata": {
        "id": "ZEIeddys-KYw"
      }
    },
    {
      "cell_type": "markdown",
      "source": [
        "NOTE: If you want to save the .csv file to your Google Drive so you don't have to reload it each time, uncomment the following block of code!"
      ],
      "metadata": {
        "id": "O1Xe23An6aqV"
      }
    },
    {
      "cell_type": "code",
      "source": [
        "# from google.colab import drive\n",
        "# drive.mount('/content/drive')\n",
        "# file_path = '/content/drive/My Drive/mvp_data.csv'\n",
        "# collection.to_csv(file_path)"
      ],
      "metadata": {
        "id": "_POpN9YrF3W6"
      },
      "execution_count": null,
      "outputs": []
    },
    {
      "cell_type": "markdown",
      "source": [
        "At this point, let's load the dataset back in and preprocess it so we can prepare to train our neural network. We'll split the dataset into input data, called features, and output data, called labels. As mentioned previously, the input data will be the player stats and the labels will be the players' MVP voting ranks. Here are the steps we'll take to preprocess our data:\n",
        "\n",
        "1. First, we'll standardize the data using scikit-learn's [StandardScaler() method](https://scikit-learn.org/stable/modules/generated/sklearn.preprocessing.StandardScaler.html). Data standardization is a crucial step in any neural network pipeline, as it puts all the data on the same scale. If you are unfamiliar with this concept, imagine you have a bunch of temperature data in Celsius, Fahrenheit, and Kelvin. Normalizing this data would mean changing it all to be the same unit of measurement so you can interpret it better. If you're interested, the way you standardize data is by subtracting the mean of the data from an individual data point and dividing by the standard deviation of the data. This centers the distribution of the data around 0 with a standard deviation of 1. If the specifics don't make sense to you, don't worry! All you need to understand is the temperature example.\n",
        "\n",
        "2. Next, we'll convert our normalized data to [PyTorch tensors](https://pytorch.org/docs/stable/tensors.html), which is a data structure specifically designed for deep learning (neural network) tasks in PyTorch. A tensor is analogous to a matrix. You can think of it as a container for numerical data that we can manipulate very efficiently.\n",
        "\n",
        "3. Then, we'll randomly split our data into training data and validation data using our own train_valid_split() method. We need training data to train the model, and validation data to evaluate the model once it's been trained. We'll use an 80/20 split, which is quite common.\n",
        "\n",
        "4. Finally, we'll use PyTorch's [DataLoader() method](https://pytorch.org/tutorials/beginner/basics/data_tutorial.html) to load our data efficiently, breaking it up into batches that we feed to the model little-by-little. While training a model, we want to pass data in batches and reshuffle the data after every training period to reduce model overfitting. You can think of overfitting as a neural network memorizing the data it sees and being unable to make predictions on new data. We want our neural network to learn underlying patterns in the data that it can generalize to data it hasn't seen before. We don't want it to hyperfocus on specific manifestations of those patterns. Think about studying for a test. Is the best strategy for long-term learning to memorize the material or learn the underlying concepts?"
      ],
      "metadata": {
        "id": "ZAH-AoO5NCpM"
      }
    },
    {
      "cell_type": "code",
      "source": [
        "def train_valid_split(X, y, train_split=0.8):\n",
        "  \"\"\"\n",
        "  train_valid_split() splits up PyTorch tensors into training\n",
        "  and testing subtensors to prepare for learning.\n",
        "\n",
        "  Parameters:\n",
        "  X (PyTorch tensor): input data.\n",
        "  y (string): output data.\n",
        "  train_split (float): the desired percentage of training data.\n",
        "\n",
        "  Returns:\n",
        "  Xtrain (PyTorch tensor): input data for training.\n",
        "  ytrain (PyTorch tensor): output data for training.\n",
        "  Xvalid (PyTorch tensor): input data for validation.\n",
        "  yvalid (PyTorch tensor): output data for validation.\n",
        "  \"\"\"\n",
        "\n",
        "  indices = torch.randperm(len(X))  # Randomly permute the indices of the input data\n",
        "\n",
        "  split_index = int(train_split * len(X))  # Create split index\n",
        "\n",
        "  # Split data!\n",
        "  train_indices = indices[:split_index]\n",
        "  Xtrain, ytrain = X[train_indices], y[train_indices]\n",
        "\n",
        "  valid_indices = indices[split_index:]\n",
        "  Xvalid, yvalid = X[valid_indices], y[valid_indices]\n",
        "\n",
        "  return Xtrain, ytrain, Xvalid, yvalid"
      ],
      "metadata": {
        "id": "ABEUceVLWfzL"
      },
      "execution_count": null,
      "outputs": []
    },
    {
      "cell_type": "code",
      "execution_count": null,
      "metadata": {
        "id": "PLOoFKnQe9vC"
      },
      "outputs": [],
      "source": [
        "# Load the dataset\n",
        "df = pd.read_csv(\"mvp_data.csv\")\n",
        "\n",
        "# Split data into features and labels\n",
        "X = df[model_input].values\n",
        "y = df[model_output].values\n",
        "\n",
        "# Normalize features\n",
        "scaler = StandardScaler()\n",
        "X_scaled = scaler.fit_transform(X)\n",
        "\n",
        "# Convert arrays to PyTorch tensors\n",
        "X_tensor = torch.tensor(X_scaled, dtype=torch.float32)\n",
        "y_tensor = torch.tensor(y, dtype=torch.float32).view(-1, 1)\n",
        "\n",
        "# Split dataset into train and test sets\n",
        "X_train, y_train, X_valid, y_valid = train_valid_split(X_tensor, y_tensor)\n",
        "\n",
        "# Create datasets\n",
        "train_dataset = TensorDataset(X_train, y_train)\n",
        "valid_dataset = TensorDataset(X_valid, y_valid)\n",
        "\n",
        "# Create data loaders\n",
        "train_loader = DataLoader(train_dataset, batch_size=32, shuffle=True)\n",
        "valid_loader = DataLoader(valid_dataset, batch_size=32, shuffle=False)\n"
      ]
    },
    {
      "cell_type": "markdown",
      "source": [
        "Let's see what our data looks like! We want our input data to be structured as an N x d matrix, where N is the number of candidates and d is the number of parameters, or the number of statistics per player, that we are training the model with. Since we are examining the top five MVP vote-getters from 27 seasons, N will be equal to 135. Since we are tracking 10 stats from each player, d will be equal to 10. Furthermore, we want our output data to be an N x 1 vector of the true labels from the dataset, which indicate where each player finished in MVP voting. This vector will be used to measure how well the model is learning and how accurate its predictions are.\n",
        "\n",
        "Since we are employing an 80/20 split for our data, we should expect the shape of X_train to be 108 x 10, y_train to be 108 x 1, X_valid to be 27 x 10, and y_valid to be 27 x 1. Let's check out what's in each object and see if our predictions about their format are correct:"
      ],
      "metadata": {
        "id": "0dBRZ8BWxM_H"
      }
    },
    {
      "cell_type": "code",
      "source": [
        "X_train"
      ],
      "metadata": {
        "id": "VJsta4WExQQ8",
        "colab": {
          "base_uri": "https://localhost:8080/"
        },
        "collapsed": true,
        "outputId": "8f5ae714-8104-469c-e521-56a5f233f70d"
      },
      "execution_count": null,
      "outputs": [
        {
          "output_type": "execute_result",
          "data": {
            "text/plain": [
              "tensor([[-6.8570e-01,  1.0805e+00, -1.1014e+00,  ...,  1.7886e+00,\n",
              "          5.3875e-01, -9.3167e-01],\n",
              "        [-6.8570e-01,  1.8507e+00, -1.5637e+00,  ..., -7.2068e-01,\n",
              "          2.2026e+00, -8.8915e-01],\n",
              "        [ 1.2328e+00, -1.2300e+00,  1.4350e+00,  ..., -1.5039e-01,\n",
              "          2.4245e-01,  1.4495e+00],\n",
              "        ...,\n",
              "        [-2.2445e+00, -1.3840e+00,  9.8105e-02,  ...,  3.2713e+00,\n",
              "         -1.2847e+00,  5.5654e-01],\n",
              "        [ 5.1339e-01,  3.1035e-01, -1.8510e-03,  ..., -1.0628e+00,\n",
              "         -1.0567e+00, -3.8741e-02],\n",
              "        [ 5.1339e-01,  6.1841e-01, -2.1426e-01,  ..., -1.5039e-01,\n",
              "         -5.3858e-02, -8.1261e-02]])"
            ]
          },
          "metadata": {},
          "execution_count": 11
        }
      ]
    },
    {
      "cell_type": "code",
      "source": [
        "y_train"
      ],
      "metadata": {
        "id": "Ad9Ad5EaxRYC",
        "colab": {
          "base_uri": "https://localhost:8080/"
        },
        "collapsed": true,
        "outputId": "e29e53a5-7ee6-4190-d7f3-723d8d919a87"
      },
      "execution_count": null,
      "outputs": [
        {
          "output_type": "execute_result",
          "data": {
            "text/plain": [
              "tensor([[3.],\n",
              "        [4.],\n",
              "        [1.],\n",
              "        [4.],\n",
              "        [2.],\n",
              "        [3.],\n",
              "        [4.],\n",
              "        [1.],\n",
              "        [4.],\n",
              "        [2.],\n",
              "        [4.],\n",
              "        [4.],\n",
              "        [4.],\n",
              "        [2.],\n",
              "        [4.],\n",
              "        [4.],\n",
              "        [1.],\n",
              "        [5.],\n",
              "        [3.],\n",
              "        [1.],\n",
              "        [2.],\n",
              "        [2.],\n",
              "        [5.],\n",
              "        [3.],\n",
              "        [2.],\n",
              "        [3.],\n",
              "        [3.],\n",
              "        [4.],\n",
              "        [3.],\n",
              "        [1.],\n",
              "        [2.],\n",
              "        [3.],\n",
              "        [1.],\n",
              "        [1.],\n",
              "        [5.],\n",
              "        [5.],\n",
              "        [1.],\n",
              "        [5.],\n",
              "        [5.],\n",
              "        [1.],\n",
              "        [1.],\n",
              "        [5.],\n",
              "        [1.],\n",
              "        [3.],\n",
              "        [1.],\n",
              "        [4.],\n",
              "        [4.],\n",
              "        [3.],\n",
              "        [1.],\n",
              "        [3.],\n",
              "        [3.],\n",
              "        [5.],\n",
              "        [4.],\n",
              "        [5.],\n",
              "        [3.],\n",
              "        [2.],\n",
              "        [2.],\n",
              "        [5.],\n",
              "        [2.],\n",
              "        [3.],\n",
              "        [5.],\n",
              "        [3.],\n",
              "        [4.],\n",
              "        [5.],\n",
              "        [5.],\n",
              "        [2.],\n",
              "        [5.],\n",
              "        [5.],\n",
              "        [3.],\n",
              "        [3.],\n",
              "        [4.],\n",
              "        [2.],\n",
              "        [5.],\n",
              "        [4.],\n",
              "        [3.],\n",
              "        [3.],\n",
              "        [5.],\n",
              "        [5.],\n",
              "        [2.],\n",
              "        [4.],\n",
              "        [5.],\n",
              "        [1.],\n",
              "        [2.],\n",
              "        [1.],\n",
              "        [1.],\n",
              "        [5.],\n",
              "        [4.],\n",
              "        [4.],\n",
              "        [4.],\n",
              "        [1.],\n",
              "        [5.],\n",
              "        [3.],\n",
              "        [1.],\n",
              "        [3.],\n",
              "        [5.],\n",
              "        [4.],\n",
              "        [5.],\n",
              "        [1.],\n",
              "        [3.],\n",
              "        [3.],\n",
              "        [2.],\n",
              "        [4.],\n",
              "        [4.],\n",
              "        [1.],\n",
              "        [3.],\n",
              "        [2.],\n",
              "        [2.],\n",
              "        [4.]])"
            ]
          },
          "metadata": {},
          "execution_count": 12
        }
      ]
    },
    {
      "cell_type": "code",
      "source": [
        "X_train.shape"
      ],
      "metadata": {
        "id": "P03UJyS1y-Ru",
        "colab": {
          "base_uri": "https://localhost:8080/"
        },
        "outputId": "abf0e554-27d2-47d6-c456-94eac8ee13b7"
      },
      "execution_count": null,
      "outputs": [
        {
          "output_type": "execute_result",
          "data": {
            "text/plain": [
              "torch.Size([108, 10])"
            ]
          },
          "metadata": {},
          "execution_count": 13
        }
      ]
    },
    {
      "cell_type": "code",
      "source": [
        "y_train.shape"
      ],
      "metadata": {
        "id": "ddkzcp99xwxU",
        "colab": {
          "base_uri": "https://localhost:8080/"
        },
        "outputId": "f03b1a21-bcda-4384-cc1c-c7ab37f0322d"
      },
      "execution_count": null,
      "outputs": [
        {
          "output_type": "execute_result",
          "data": {
            "text/plain": [
              "torch.Size([108, 1])"
            ]
          },
          "metadata": {},
          "execution_count": 14
        }
      ]
    },
    {
      "cell_type": "code",
      "source": [
        "X_valid"
      ],
      "metadata": {
        "id": "-XPtdQYD5_ig",
        "colab": {
          "base_uri": "https://localhost:8080/"
        },
        "collapsed": true,
        "outputId": "f2ccc87a-7058-4653-8746-315af35a6c20"
      },
      "execution_count": null,
      "outputs": [
        {
          "output_type": "execute_result",
          "data": {
            "text/plain": [
              "tensor([[ 3.9348e-01,  6.1841e-01, -2.6424e-01, -1.9248e-02,  2.1155e+00,\n",
              "          3.5750e+00,  2.1398e-01, -6.0662e-01,  7.6668e-01, -3.7890e-01],\n",
              "        [ 8.7311e-01,  1.5631e-01,  2.3554e-01,  1.4938e+00, -7.6075e-01,\n",
              "          9.0846e-02, -1.3798e+00,  1.6745e+00, -5.3858e-02,  3.0142e-01],\n",
              "        [ 3.3752e-02, -1.6921e+00,  1.5225e+00,  1.7899e+00, -3.2100e-02,\n",
              "          7.8767e-01, -7.8215e-01, -3.6329e-02,  8.5785e-01,  2.0022e+00],\n",
              "        [ 8.7311e-01, -1.5175e-01,  4.6044e-01,  8.0307e-01, -8.7580e-01,\n",
              "         -4.6662e-01, -1.1806e+00,  1.5605e+00, -1.3075e+00,  1.4070e+00],\n",
              "        [ 9.9302e-01, -9.2191e-01,  1.0977e+00, -1.5323e+00,  2.2689e+00,\n",
              "          9.2704e-01, -1.1806e+00, -1.0628e+00, -1.6266e+00,  8.1167e-01],\n",
              "        [ 1.5366e-01,  1.0805e+00, -6.7655e-01,  1.9872e+00, -1.6811e+00,\n",
              "          9.0846e-02, -9.8137e-01,  1.2183e+00, -1.1479e+00, -8.1261e-02],\n",
              "        [ 8.7311e-01,  1.5631e-01,  2.3554e-01,  1.3294e+00, -1.0292e+00,\n",
              "         -1.8789e-01, -9.8137e-01,  1.4464e+00, -8.0602e-01,  9.8175e-01],\n",
              "        [ 1.1129e+00, -3.0578e-01,  6.6036e-01,  1.5596e+00, -6.8405e-01,\n",
              "         -4.8520e-02, -1.3798e+00,  2.1308e+00, -5.5530e-01,  3.0142e-01],\n",
              "        [ 7.5320e-01, -3.0578e-01,  5.3541e-01,  6.0571e-01, -1.3743e+00,\n",
              "         -1.1634e+00, -1.1806e+00,  1.7886e+00, -1.2847e+00, -1.6630e-01],\n",
              "        [ 6.3329e-01,  4.6438e-01, -6.4323e-02,  1.2307e+00, -1.1442e+00,\n",
              "          3.6958e-01, -1.3798e+00,  1.6745e+00, -1.0567e+00, -3.7890e-01],\n",
              "        [-3.2597e-01, -3.0578e-01,  9.8105e-02,  1.1978e+00,  1.5786e+00,\n",
              "          6.4831e-01, -1.8447e-01, -3.7850e-01, -2.8179e-01,  1.3644e+00],\n",
              "        [ 7.5320e-01, -1.3840e+00,  1.4350e+00,  3.4257e-01, -8.7580e-01,\n",
              "         -1.7209e+00,  1.4758e-02,  3.0584e-01, -1.5810e+00,  1.8322e+00],\n",
              "        [ 6.3329e-01,  1.5631e-01,  1.4808e-01,  4.4125e-01, -6.8405e-01,\n",
              "         -4.6662e-01, -3.8370e-01, -4.9256e-01, -3.7296e-01,  4.2898e-01],\n",
              "        [ 1.2328e+00, -4.5982e-01,  8.1029e-01,  7.0439e-01, -6.8405e-01,\n",
              "         -1.8789e-01, -3.8370e-01, -1.5039e-01,  2.8803e-01,  4.7150e-01],\n",
              "        [ 1.3527e+00, -6.1385e-01,  9.6022e-01, -1.3350e+00,  7.7325e-01,\n",
              "          3.6958e-01, -7.8215e-01, -4.9256e-01, -1.6782e-01,  4.6300e-02],\n",
              "        [-3.2597e-01, -1.5175e-01, -2.6840e-02,  9.6753e-01, -5.6900e-01,\n",
              "         -4.6662e-01, -1.8447e-01,  7.6207e-01,  3.1083e-01, -3.3638e-01],\n",
              "        [-8.6157e-02, -9.2191e-01,  7.2283e-01, -1.1793e-01,  1.7320e+00,\n",
              "          1.0664e+00, -3.8370e-01, -6.0662e-01, -9.9444e-02,  2.1638e-01],\n",
              "        [-3.2597e-01,  3.1035e-01, -3.7669e-01, -1.1376e+00,  1.5965e-01,\n",
              "          6.4831e-01,  4.1321e-01, -7.2068e-01, -7.6651e-02, -2.0882e-01],\n",
              "        [-6.8570e-01,  2.2820e-03, -3.2671e-01,  1.1649e+00, -5.6900e-01,\n",
              "         -4.8520e-02, -5.8292e-01,  5.3396e-01,  1.1086e+00, -2.9386e-01],\n",
              "        [ 5.1339e-01,  4.6438e-01, -1.1430e-01, -6.1132e-01, -1.3743e+00,\n",
              "         -1.7209e+00, -1.8447e-01, -9.4879e-01, -3.5016e-01, -3.3638e-01],\n",
              "        [ 9.9302e-01, -1.5380e+00,  1.6349e+00, -9.0735e-01,  1.1951e+00,\n",
              "          1.7632e+00,  8.1166e-01, -3.7850e-01,  1.0630e+00,  5.1402e-01],\n",
              "        [-1.4052e+00, -1.6921e+00,  9.6022e-01,  8.0307e-01, -1.1059e+00,\n",
              "         -4.8520e-02, -7.8215e-01,  4.1990e-01,  6.2992e-01,  7.6915e-01],\n",
              "        [-4.4588e-01, -1.5380e+00,  1.1851e+00, -1.7297e+00,  7.7325e-01,\n",
              "         -7.4535e-01, -7.8215e-01, -1.0628e+00, -1.6949e+00,  3.8646e-01],\n",
              "        [ 6.3329e-01,  3.1035e-01,  3.5632e-02, -8.0867e-01,  5.0480e-01,\n",
              "          1.2058e+00,  1.0109e+00, -3.7850e-01,  3.7920e-01, -8.4663e-01],\n",
              "        [-9.2552e-01,  2.2820e-03, -4.5165e-01,  6.7150e-01, -5.6900e-01,\n",
              "          3.6958e-01, -7.8215e-01,  7.6207e-01,  1.6784e+00,  1.3134e-01],\n",
              "        [ 1.5366e-01,  1.0805e+00, -6.7655e-01, -2.8239e-01,  1.6169e+00,\n",
              "          5.0894e-01,  1.4093e+00, -9.4879e-01, -2.5155e+00, -8.0411e-01],\n",
              "        [ 1.9523e+00, -1.5380e+00,  1.8723e+00, -1.2692e+00,  7.7325e-01,\n",
              "         -4.8520e-02,  1.2101e+00, -9.4879e-01, -4.4133e-01,  2.2999e+00]])"
            ]
          },
          "metadata": {},
          "execution_count": 15
        }
      ]
    },
    {
      "cell_type": "code",
      "source": [
        "y_valid"
      ],
      "metadata": {
        "id": "F5BSo2OG6BBf",
        "colab": {
          "base_uri": "https://localhost:8080/"
        },
        "collapsed": true,
        "outputId": "a25ad563-46bd-4166-acd3-afe29289b279"
      },
      "execution_count": null,
      "outputs": [
        {
          "output_type": "execute_result",
          "data": {
            "text/plain": [
              "tensor([[2.],\n",
              "        [1.],\n",
              "        [1.],\n",
              "        [4.],\n",
              "        [2.],\n",
              "        [5.],\n",
              "        [2.],\n",
              "        [1.],\n",
              "        [3.],\n",
              "        [5.],\n",
              "        [2.],\n",
              "        [3.],\n",
              "        [3.],\n",
              "        [2.],\n",
              "        [1.],\n",
              "        [4.],\n",
              "        [2.],\n",
              "        [5.],\n",
              "        [2.],\n",
              "        [4.],\n",
              "        [1.],\n",
              "        [2.],\n",
              "        [5.],\n",
              "        [2.],\n",
              "        [1.],\n",
              "        [2.],\n",
              "        [1.]])"
            ]
          },
          "metadata": {},
          "execution_count": 16
        }
      ]
    },
    {
      "cell_type": "code",
      "source": [
        "X_valid.shape"
      ],
      "metadata": {
        "id": "qFSDlf3I6DDB",
        "colab": {
          "base_uri": "https://localhost:8080/"
        },
        "outputId": "7b315de1-e030-41ff-c8ad-4793dae2db4e"
      },
      "execution_count": null,
      "outputs": [
        {
          "output_type": "execute_result",
          "data": {
            "text/plain": [
              "torch.Size([27, 10])"
            ]
          },
          "metadata": {},
          "execution_count": 17
        }
      ]
    },
    {
      "cell_type": "code",
      "source": [
        "y_valid.shape"
      ],
      "metadata": {
        "id": "dnjw9iF7x11-",
        "colab": {
          "base_uri": "https://localhost:8080/"
        },
        "outputId": "dd458483-fcce-47c7-8ed4-d539e364c730"
      },
      "execution_count": null,
      "outputs": [
        {
          "output_type": "execute_result",
          "data": {
            "text/plain": [
              "torch.Size([27, 1])"
            ]
          },
          "metadata": {},
          "execution_count": 18
        }
      ]
    },
    {
      "cell_type": "markdown",
      "source": [
        "Woohoo! We were right! Remember, we standardized the input data so the contents of X_train and X_valid will appear to be random numbers, not data that corresponds to the statistics we scraped."
      ],
      "metadata": {
        "id": "Az8Ci9c_XWd0"
      }
    },
    {
      "cell_type": "markdown",
      "source": [
        "## **Step Two: Building the Model**"
      ],
      "metadata": {
        "id": "UnYml_FAKntw"
      }
    },
    {
      "cell_type": "markdown",
      "source": [
        "It's finally time to build the model! We are going to build a linear regression-based neural network. Here is the function that lies at the heart of this model, which you might be familiar with:"
      ],
      "metadata": {
        "id": "JNy5Xef1Ux2d"
      }
    },
    {
      "cell_type": "markdown",
      "source": [
        "![linear_function.png](data:image/png;base64,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)"
      ],
      "metadata": {
        "id": "PRA87vIF99h6"
      }
    },
    {
      "cell_type": "markdown",
      "source": [
        "Our neural network is going to take our input data and learn how to draw a line of best fit through it, which is the line that is as close as possible to every single data point. Here's how we can visualize this:\n",
        "\n",
        "![linear_regression.png](data:image/png;base64,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)"
      ],
      "metadata": {
        "id": "gAgcOOhcZY_A"
      }
    },
    {
      "cell_type": "markdown",
      "source": [
        "To build our neural network, we'll create a subclass of PyTorch's neural network module. [Inheritance](https://www.geeksforgeeks.org/inheritance-in-python/) allows us to define a class that inherits all the methods and properties from another class. In the class MVPWinner, we define a specific neural network architecture with four layers. Here is the flow of our model:\n",
        "\n",
        "Our first layer, or input layer, has 10 nodes that correspond to the 10 different statistics that we feed the model per player. This layer is the gateway to our network. Our next layer is the first hidden layer, or intermediary layer in the model, which has 128 nodes. Each node in this layer takes these 10 inputs and applies a linear function, followed by a [ReLU activation function](https://www.kaggle.com/code/dansbecker/rectified-linear-units-relu-in-deep-learning), which returns 0 if it receives a negative input and returns the positive value it receives otherwise. This activation function is crucial because it allows the model to learn non-linear relationships in the data. After this, we have another hidden layer with 64 nodes, which takes the 128 outputs from the previous layer and applies the same procedure as before, resulting in 64 outputs. Finally, we have our output layer, which takes the results of the last hidden layer and uses a linear function to map its 64 inputs to one output. This output is the predicted rank of where the player will finish in MVP voting.\n",
        "\n",
        "In a nutshell, our model takes the input data and passes it through these four layers, where each layer has nodes that apply an operation to the data it receives. Each layer is full-connected, meaning every node from a previous layer is connected to every node in the next layer. Thus, each neuron in a layer receives input data from all the neurons in the preceding layer.\n",
        "\n",
        "Here's a quick visualization of a similar network, which takes four inputs, passes them to two hidden layers with three nodes each, and produces a single output:\n",
        "<br>\n",
        "<br>\n",
        "![neural_network.png](data:image/png;base64,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)"
      ],
      "metadata": {
        "id": "KkLY4pnx9AhQ"
      }
    },
    {
      "cell_type": "markdown",
      "source": [
        "The way the model learns is by finding the optimal weights for each node in the network. Each node multiplies the input it receives by its weights to produce an output, which is passed forward through the network. To start off, we initialize the weights using [Xavier initialization](https://365datascience.com/tutorials/machine-learning-tutorials/what-is-xavier-initialization/#h_24242636975541686829817569), which is a common method in machine learning that randomly draws each weight from a normal distribution.\n",
        "\n",
        "If you want to experiment with the network, you can change the number of nodes in the hidden layers, which are currently set to 128 and 64. You just need to make sure that the first layer has 10 inputs and the last layer has 1 output to match the structure of our data. Take a look at our MVPWinner class below!"
      ],
      "metadata": {
        "id": "uu8DL6-pkXIm"
      }
    },
    {
      "cell_type": "code",
      "execution_count": null,
      "metadata": {
        "id": "rcTlCbPpe9vD"
      },
      "outputs": [],
      "source": [
        "class MVPWinner(nn.Module):\n",
        "  def __init__(self, in_dims, out_dims):\n",
        "    \"\"\"\n",
        "    init() initializes our neural network, inheriting\n",
        "    methods from the PyTorch nn.Module class.\n",
        "\n",
        "    Parameters:\n",
        "    self (MVPWinner): the model.\n",
        "    in_dims (int): the input dimensions of the training data (in our case, 10).\n",
        "    out_dims (int): the output dimensions of the model (in our case, 1).\n",
        "    \"\"\"\n",
        "\n",
        "    super(MVPWinner, self).__init__()\n",
        "    self.in_dims = in_dims\n",
        "    self.out_dims = out_dims\n",
        "\n",
        "    # Construct fully-connected network w/ two hidden layers\n",
        "    self.fc = nn.Sequential(\n",
        "        nn.Linear(self.in_dims, 128),\n",
        "        nn.ReLU(),\n",
        "        nn.Linear(128, 64),\n",
        "        nn.ReLU(),\n",
        "        nn.Linear(64, self.out_dims)\n",
        "    )\n",
        "\n",
        "    self.initialize_weights()\n",
        "\n",
        "  def initialize_weights(self):\n",
        "    \"\"\"\n",
        "    initialize_weights() initializes the weights of our\n",
        "    model using Xavier initialization.\n",
        "\n",
        "    Parameters:\n",
        "    self (MVPWinner): the model.\n",
        "    \"\"\"\n",
        "\n",
        "    # Iterate over modules of network\n",
        "    for m in self.modules():\n",
        "      # Apply Xavier initialization to linear layers\n",
        "      if isinstance(m, nn.Linear):\n",
        "        init.xavier_uniform_(m.weight)\n",
        "        if m.bias is not None:\n",
        "            init.constant_(m.bias, 0)\n",
        "\n",
        "  def forward(self, X):\n",
        "    \"\"\"\n",
        "    forward() passes input data through our neural netowrk, outputting\n",
        "    a prediction. We invoke this method internally when training our\n",
        "    model.\n",
        "\n",
        "    Parameters:\n",
        "    self (MVPWinner): the model.\n",
        "\n",
        "    Returns:\n",
        "    A tensor of output values that represent where the model\n",
        "    predicts each player will place in MVP voting.\n",
        "    \"\"\"\n",
        "\n",
        "    return self.fc(X)\n",
        "\n",
        "\n",
        "  def predict_mvp(self, X):\n",
        "    \"\"\"\n",
        "    predict_mvp() passes input data through our neural network,\n",
        "    outputting a prediction. We invoke this method after we've\n",
        "    trained our model and the weights have been optimized.\n",
        "\n",
        "    Parameters:\n",
        "    self (MVPWinner): the model.\n",
        "    X (PyTorch tensor): the input data to feed the model.\n",
        "\n",
        "    Returns:\n",
        "    outputs (PyTorch tensor): the values representing where the\n",
        "    model predicts each player will place in MVP voting.\n",
        "    \"\"\"\n",
        "\n",
        "    with torch.no_grad():  # Disable gradient computation for prediction\n",
        "      outputs = self.fc(X)  # Pass input data through model\n",
        "    return outputs"
      ]
    },
    {
      "cell_type": "markdown",
      "source": [
        "It's going to be helpful to have a method that allows us to see how well our model is learning as we train it. Let's define a function using Matplotlib, a Python library for data visualization."
      ],
      "metadata": {
        "id": "7_QcmZ3AoaNy"
      }
    },
    {
      "cell_type": "code",
      "source": [
        "def plot_loss(train_loss_history, valid_loss_history):\n",
        "  \"\"\"\n",
        "  plot_loss() creates a graph of the training and validation\n",
        "  loss of our model over time.\n",
        "\n",
        "  Parameters:\n",
        "  train_loss_history (list of floats): the training loss values of the model.\n",
        "  valid_loss_history (list of floats): the validation loss values of the model.\n",
        "\n",
        "  Returns:\n",
        "  A plot displaying the training and validation loss.\n",
        "  \"\"\"\n",
        "\n",
        "  f, ax = plt.subplots(figsize=(15, 4))  # Create a 15 x 4 inch plot\n",
        "  ax.plot(train_loss_history, label='Training Loss')\n",
        "  ax.plot(valid_loss_history, label='Validation Loss')\n",
        "  ax.set_title('Loss Over Training Epochs')\n",
        "  ax.legend()\n",
        "  plt.show()"
      ],
      "metadata": {
        "id": "zuxiYbMG7OEr"
      },
      "execution_count": null,
      "outputs": []
    },
    {
      "cell_type": "markdown",
      "source": [
        "At this point, we're ready to train our model! First, we pick a loss function, which in this case we chose to be [mean squared error](https://statisticsbyjim.com/regression/mean-squared-error-mse/). This loss function returns the average distance between our input data and the line of best fit that our model draws, and squares it so the value is positive. The loss function effectively tells us how far away the model predictions are from the actual data points.\n",
        "\n",
        "During each iteration (commonly referred to as an \"epoch\") of training, we have our model make predictions based off of the input data and then we calculate our loss, which compares the predictions to the actual output values. Next, we use gradient descent to minimize this loss value to ensure the best predictions possible. The gradient of any function points towards its minimum, so during each epoch we calculate the gradient, or the individual derivatives, of the output of the loss function with respect to each weight of our network. We can subtract this gradient from the weights each time and essentially move the weights of the network down the function, closer to the minimum.\n",
        "\n",
        "A great way to understand gradient descent intuitively is to imagine rolling a ball down a hill. The ball will settle in the lowest point at the bottom of the hill, which represents the optimal value of our network weights! Furthermore, the rate at which the ball rolls down the hill is called the learning rate. We want our learning rate to be very low, so we don't overshoot the minimum of our loss function.\n",
        "\n",
        "The way we calculate the gradient is using [back propagation](https://towardsdatascience.com/understanding-backpropagation-algorithm-7bb3aa2f95fd), which uses the chain rule to go backwards through the network and calculate the derivative of the loss value with respect to each weight.\n",
        "\n",
        "If you're interested in further learning on the concepts of gradient descent and backpropogation, make sure to check out these amazing videos by 3Blue1Brown that will help you visualize and understand what is going on:\n",
        "\n",
        "*   [Gradient descent](https://www.youtube.com/watch?v=IHZwWFHWa-w)\n",
        "*   [Backpropogation](https://www.youtube.com/watch?v=Ilg3gGewQ5U)\n"
      ],
      "metadata": {
        "id": "XwxmiGBORPOf"
      }
    },
    {
      "cell_type": "code",
      "execution_count": null,
      "metadata": {
        "id": "Gr2N0l2Ze9vE"
      },
      "outputs": [],
      "source": [
        "def train_model(model, train_loader, valid_loader, lr, epochs):\n",
        "  \"\"\"\n",
        "  train_model() trains our neural network.\n",
        "\n",
        "  Parameters:\n",
        "  model (MVPWinner): the model.\n",
        "  train_loader (PyTorch DataLoader): the training data for the model.\n",
        "  valid_loader (PyTorch DataLoader): the validation data for the model.\n",
        "  lr (float): the learning rate of the model.\n",
        "  epochs (int): the number of iterations to train the model.\n",
        "\n",
        "  Returns:\n",
        "  train_losses (list of floats): the training loss values from each epoch.\n",
        "  valid_losses (list of floats): the validation loss values from each epoch.\n",
        "  \"\"\"\n",
        "\n",
        "  loss_func = nn.MSELoss()\n",
        "  optimizer = optim.Adam(model.parameters(), lr)\n",
        "\n",
        "  train_losses = []\n",
        "  valid_losses = []\n",
        "\n",
        "  # Training loop\n",
        "  for epoch in range(epochs):\n",
        "\n",
        "    for x, y in train_loader:\n",
        "      # Generate prediction\n",
        "      y_hat = model(x)\n",
        "\n",
        "      # Calculate loss of prediction w/ respect to true output label\n",
        "      loss = loss_func(y_hat, y)\n",
        "      train_loss = loss.detach().item()\n",
        "\n",
        "      # Perform one step of gradient descent\n",
        "      optimizer.zero_grad()\n",
        "      loss.backward()\n",
        "      optimizer.step()\n",
        "\n",
        "    train_losses.append(train_loss)\n",
        "    print(f\"Epoch {epoch+1}/{epochs} Training loss: {train_loss:.2f}\")\n",
        "\n",
        "    # Validation loop\n",
        "    model.eval()\n",
        "    with torch.no_grad():\n",
        "      for x, y in valid_loader:\n",
        "        # Generate prediction\n",
        "        y_hat = model(x)\n",
        "\n",
        "        # Calculate loss of prediction w/ respect to true output label\n",
        "        valid_loss = loss_func(y_hat, y).detach().item()\n",
        "\n",
        "      valid_losses.append(valid_loss)\n",
        "      print(f\"Valid loss: {valid_loss:.2f}\")\n",
        "\n",
        "  return train_losses, valid_losses"
      ]
    },
    {
      "cell_type": "markdown",
      "source": [
        "Once our train_model() is defined, we can actually train our model. First, we create an instance of our model with the correct input and output dimensions. Then, we train our model using the method we just created and visualize how well the model learns using our plot_loss() method.\n",
        "\n",
        "Again, feel free to explore with some of the parameters here, in addition to the dimensions of the hidden layers of the model. We set the learning rate to be 0.001 and the number of epochs to be 50, but there's no exact science behind it. Experiment to find the combination that results in the lowest validation loss! While the training loss measures how well the model fits the training data, the validation loss provides an estimate of how well the model will perform on new, unseen data. Monitoring the validation loss will help us gauge the model's ability to generalize to data it hasn't seen before.\n",
        "\n",
        "NOTE: A learning rate will commonly be between 0.0 and 1.0."
      ],
      "metadata": {
        "id": "vy9NxzgCmwt0"
      }
    },
    {
      "cell_type": "code",
      "source": [
        "model = MVPWinner(10, 1)\n",
        "train_losses, valid_losses = train_model(model, train_loader, valid_loader, 0.001, 50)\n",
        "plot_loss(train_losses, valid_losses)"
      ],
      "metadata": {
        "id": "BnK-pf9m7uyQ",
        "colab": {
          "base_uri": "https://localhost:8080/",
          "height": 1000
        },
        "outputId": "890e06ae-f670-4353-afe1-6da24a4dae12"
      },
      "execution_count": null,
      "outputs": [
        {
          "output_type": "stream",
          "name": "stdout",
          "text": [
            "Epoch 1/50 Training loss: 12.38\n",
            "Valid loss: 7.88\n",
            "Epoch 2/50 Training loss: 10.13\n",
            "Valid loss: 6.36\n",
            "Epoch 3/50 Training loss: 5.84\n",
            "Valid loss: 5.11\n",
            "Epoch 4/50 Training loss: 5.84\n",
            "Valid loss: 4.09\n",
            "Epoch 5/50 Training loss: 5.69\n",
            "Valid loss: 3.30\n",
            "Epoch 6/50 Training loss: 6.16\n",
            "Valid loss: 2.74\n",
            "Epoch 7/50 Training loss: 3.39\n",
            "Valid loss: 2.44\n",
            "Epoch 8/50 Training loss: 1.88\n",
            "Valid loss: 2.36\n",
            "Epoch 9/50 Training loss: 3.86\n",
            "Valid loss: 2.42\n",
            "Epoch 10/50 Training loss: 1.44\n",
            "Valid loss: 2.49\n",
            "Epoch 11/50 Training loss: 2.53\n",
            "Valid loss: 2.49\n",
            "Epoch 12/50 Training loss: 2.35\n",
            "Valid loss: 2.40\n",
            "Epoch 13/50 Training loss: 1.90\n",
            "Valid loss: 2.29\n",
            "Epoch 14/50 Training loss: 1.75\n",
            "Valid loss: 2.17\n",
            "Epoch 15/50 Training loss: 1.11\n",
            "Valid loss: 2.10\n",
            "Epoch 16/50 Training loss: 2.76\n",
            "Valid loss: 2.05\n",
            "Epoch 17/50 Training loss: 1.31\n",
            "Valid loss: 2.02\n",
            "Epoch 18/50 Training loss: 1.66\n",
            "Valid loss: 2.00\n",
            "Epoch 19/50 Training loss: 1.89\n",
            "Valid loss: 1.99\n",
            "Epoch 20/50 Training loss: 1.42\n",
            "Valid loss: 1.98\n",
            "Epoch 21/50 Training loss: 1.87\n",
            "Valid loss: 1.96\n",
            "Epoch 22/50 Training loss: 2.35\n",
            "Valid loss: 1.94\n",
            "Epoch 23/50 Training loss: 1.44\n",
            "Valid loss: 1.93\n",
            "Epoch 24/50 Training loss: 1.83\n",
            "Valid loss: 1.93\n",
            "Epoch 25/50 Training loss: 1.27\n",
            "Valid loss: 1.94\n",
            "Epoch 26/50 Training loss: 1.61\n",
            "Valid loss: 1.95\n",
            "Epoch 27/50 Training loss: 0.41\n",
            "Valid loss: 1.96\n",
            "Epoch 28/50 Training loss: 3.02\n",
            "Valid loss: 1.94\n",
            "Epoch 29/50 Training loss: 2.07\n",
            "Valid loss: 1.91\n",
            "Epoch 30/50 Training loss: 1.92\n",
            "Valid loss: 1.90\n",
            "Epoch 31/50 Training loss: 0.90\n",
            "Valid loss: 1.92\n",
            "Epoch 32/50 Training loss: 1.62\n",
            "Valid loss: 1.91\n",
            "Epoch 33/50 Training loss: 1.68\n",
            "Valid loss: 1.93\n",
            "Epoch 34/50 Training loss: 0.98\n",
            "Valid loss: 1.92\n",
            "Epoch 35/50 Training loss: 1.29\n",
            "Valid loss: 1.93\n",
            "Epoch 36/50 Training loss: 0.81\n",
            "Valid loss: 1.94\n",
            "Epoch 37/50 Training loss: 0.99\n",
            "Valid loss: 1.95\n",
            "Epoch 38/50 Training loss: 1.24\n",
            "Valid loss: 1.94\n",
            "Epoch 39/50 Training loss: 1.06\n",
            "Valid loss: 1.94\n",
            "Epoch 40/50 Training loss: 1.87\n",
            "Valid loss: 1.92\n",
            "Epoch 41/50 Training loss: 1.82\n",
            "Valid loss: 1.93\n",
            "Epoch 42/50 Training loss: 1.56\n",
            "Valid loss: 1.93\n",
            "Epoch 43/50 Training loss: 0.86\n",
            "Valid loss: 1.93\n",
            "Epoch 44/50 Training loss: 1.89\n",
            "Valid loss: 1.95\n",
            "Epoch 45/50 Training loss: 1.14\n",
            "Valid loss: 1.93\n",
            "Epoch 46/50 Training loss: 1.45\n",
            "Valid loss: 1.94\n",
            "Epoch 47/50 Training loss: 0.92\n",
            "Valid loss: 1.95\n",
            "Epoch 48/50 Training loss: 1.04\n",
            "Valid loss: 1.96\n",
            "Epoch 49/50 Training loss: 1.52\n",
            "Valid loss: 1.99\n",
            "Epoch 50/50 Training loss: 1.44\n",
            "Valid loss: 1.99\n"
          ]
        },
        {
          "output_type": "display_data",
          "data": {
            "text/plain": [
              "<Figure size 1500x400 with 1 Axes>"
            ],
            "image/png": "[encoded data removed]"
          },
          "metadata": {}
        }
      ]
    },
    {
      "cell_type": "markdown",
      "source": [
        "## **Step Three: Generating Predictions**"
      ],
      "metadata": {
        "id": "amL-aXhy38EC"
      }
    },
    {
      "cell_type": "markdown",
      "source": [
        "Now that we've trained the model to our liking, let's give it a litmus test and see how well it does on data from this season. Since MVP voting hasn't been released yet for this year, we'll use NBA fantasy points as a heuristic for MVP candidates; the players with the most fantasy points are often the best players in the league who are in the running for MVP. Let's do this in a few lines of code with Pandas."
      ],
      "metadata": {
        "id": "hCG7O9_8sn8F"
      }
    },
    {
      "cell_type": "code",
      "execution_count": null,
      "metadata": {
        "id": "J032YMsLe9vA"
      },
      "outputs": [],
      "source": [
        "curr_candidates = []\n",
        "\n",
        "# Grab top 10 players in fantasy points and their stats for 2023-24 season\n",
        "year = 2024\n",
        "season = f\"{year - 1}-{year % 100}\"  # Reformat season\n",
        "sorted_stats = get_player_stats(season).sort_values(by = \"NBA_FANTASY_PTS_RANK\")\n",
        "sorted_stats = sorted_stats[sorted_stats['GP'] > 64]  # Players must play 65 games to be elegible to win MVP\n",
        "sorted_stats = sorted_stats[['PLAYER_NAME'] + model_input]  # Add back player name to list of stats\n",
        "curr_candidates = sorted_stats.head(10).values.tolist()"
      ]
    },
    {
      "cell_type": "markdown",
      "source": [
        "Let's see what this returns!"
      ],
      "metadata": {
        "id": "MIGbpjuTuM1Q"
      }
    },
    {
      "cell_type": "code",
      "source": [
        "curr_candidates"
      ],
      "metadata": {
        "id": "SOOBEaBouJdG",
        "colab": {
          "base_uri": "https://localhost:8080/"
        },
        "outputId": "5fb8a20c-4deb-4488-976a-4a0ce48b5315",
        "collapsed": true
      },
      "execution_count": null,
      "outputs": [
        {
          "output_type": "execute_result",
          "data": {
            "text/plain": [
              "[['Luka Doncic', 46, 24, 0.657, 9.2, 9.8, 4.0, 1.4, 0.5, 33.9, 4.6],\n",
              " ['Nikola Jokic', 55, 24, 0.696, 12.4, 9.0, 3.0, 1.4, 0.9, 26.4, 8.6],\n",
              " ['Giannis Antetokounmpo', 45, 28, 0.616, 11.5, 6.5, 3.4, 1.2, 1.1, 30.4, 4.6],\n",
              " ['Anthony Davis', 45, 31, 0.592, 12.6, 3.5, 2.1, 1.2, 2.3, 24.7, 2.0],\n",
              " ['Shai Gilgeous-Alexander',\n",
              "  55,\n",
              "  20,\n",
              "  0.733,\n",
              "  5.5,\n",
              "  6.2,\n",
              "  2.2,\n",
              "  2.0,\n",
              "  0.9,\n",
              "  30.1,\n",
              "  8.2],\n",
              " ['Victor Wembanyama', 19, 52, 0.268, 10.6, 3.9, 3.7, 1.2, 3.6, 21.4, -2.0],\n",
              " ['Domantas Sabonis', 46, 36, 0.561, 13.7, 8.2, 3.3, 0.9, 0.6, 19.4, 0.8],\n",
              " ['LeBron James', 41, 30, 0.577, 7.3, 8.3, 3.5, 1.3, 0.5, 25.7, 3.1],\n",
              " ['Jayson Tatum', 57, 17, 0.77, 8.1, 4.9, 2.5, 1.0, 0.6, 26.9, 8.2],\n",
              " ['Kevin Durant', 44, 31, 0.587, 6.6, 5.0, 3.3, 0.9, 1.2, 27.1, 3.9]]"
            ]
          },
          "metadata": {},
          "execution_count": 24
        }
      ]
    },
    {
      "cell_type": "markdown",
      "source": [
        "At this point, we can see where our model predicts these players will finish in this season's MVP voting."
      ],
      "metadata": {
        "id": "U7Nx075SwHHL"
      }
    },
    {
      "cell_type": "code",
      "execution_count": null,
      "metadata": {
        "id": "zul-hH-_e9vF",
        "outputId": "b61ddea6-f72e-4fb0-e568-650ec5d7fa68",
        "colab": {
          "base_uri": "https://localhost:8080/"
        }
      },
      "outputs": [
        {
          "output_type": "stream",
          "name": "stdout",
          "text": [
            "1. Nikola Jokic\n",
            "2. Shai Gilgeous-Alexander\n",
            "3. Jayson Tatum\n",
            "4. Giannis Antetokounmpo\n",
            "5. Luka Doncic\n"
          ]
        }
      ],
      "source": [
        "final_results = []\n",
        "for i in curr_candidates:\n",
        "  new_data = torch.tensor([i[1:]], dtype=torch.float32)  # We don't include player names as input data\n",
        "  new_data_scaled = torch.tensor(scaler.transform(new_data), dtype=torch.float32)  # Standardize data\n",
        "  outputs = model.predict_mvp(new_data_scaled)  # Predict MVP voting placement\n",
        "  final_results.append([i[0], outputs.item()])  # Add player name and predicted rank to final_results\n",
        "\n",
        "final_results.sort(key=lambda x: x[1])  # Sort list in ascending order of predicted rank\n",
        "\n",
        "# Print out the predicted top five players in MVP voting\n",
        "for i in range(5):\n",
        "  print(f\"{i+1}. {final_results[i][0]}\")"
      ]
    },
    {
      "cell_type": "markdown",
      "source": [
        "This is awesome! We built a neural network to predict the NBA MVP! If our model does well, it should predict that Nikola Jokic wins the award, with Shai-Gilgeous Alexander coming in second place and some permutation of Luka Doncic, Giannis Antetokounmpo, and Jayson Tatum in third through fifth place. Compare the model output to what sports writers at NBA.com [predict](https://www.nba.com/news/kia-mvp-ladder-april-12-2024-edition)!"
      ],
      "metadata": {
        "id": "AIc2b257Nf6k"
      }
    },
    {
      "cell_type": "markdown",
      "source": [
        "Congratulations on completing the tutorial! You've learned a lot in a short amount of time, and hopefully you're eager to learn more. Given that we are able to accurately predict MVP winners with a neural network, it seems that there is some logic and objectivity behind MVP voting. We certainly know that the statistics we fed the model are correlated to which player wins MVP. However, the MVP race this season is fairly straightforward, with the consensus being that Nikola Jokic will win and Shai Gilgeous-Alexander will finish second. How would the model perform in a year where the MVP winner was an outlier and wasn't statistically the most dominant player in the NBA? For example, it would be interesting to see who the model predicts should have won last season (2022-23) between Joel Embiid and Nikola Jokic, given how contentious that MVP race was and how much it was driven by media narrative, which our model doesn't take into account. If you're interested, you should go find out!\n",
        "\n"
      ],
      "metadata": {
        "id": "XcKWFYDQxtfN"
      }
    },
    {
      "cell_type": "markdown",
      "source": [
        "<div style=\"display: flex; justify-content: center;\">\n",
        "    <img src=\"https://media3.giphy.com/media/v1.Y2lkPTc5MGI3NjExOTVjb3VqMjI3YTExZWdhNnQwb2hwaDdwNnM2eDc3dGtlemVheWE1aCZlcD12MV9pbnRlcm5hbF9naWZfYnlfaWQmY3Q9Zw/KiWPIal80StPkNW39e/giphy.gif\" style=\"max-width: 100%; max-height: 100%; margin: auto;\">\n",
        "</div>"
      ],
      "metadata": {
        "id": "M1IpFrcI4fXk"
      }
    },
    {
      "cell_type": "markdown",
      "source": [
        "## **Image Credits**\n",
        "\n",
        "*   [GIF 1](https://giphy.com/gifs/nba-basketball-mvp-nikola-jokic-r9t4G4O5zjw4BqpFAX)\n",
        "*   [Linear regression graph](https://www.spiceworks.com/tech/artificial-intelligence/articles/what-is-linear-regression/)\n",
        "*   [Neural network outline](https://analyticsindiamag.com/topics/what-is-dense-layer-in-neural-network/)\n",
        "*   [GIF 2](https://giphy.com/gifs/hornets-charlotte-charlottehornets-markwilliams-KiWPIal80StPkNW39e)\n",
        "\n"
      ],
      "metadata": {
        "id": "qH3SQVCc3yCO"
      }
    }
  ],
  "metadata": {
    "kernelspec": {
      "display_name": "Python 3",
      "name": "python3"
    },
    "language_info": {
      "codemirror_mode": {
        "name": "ipython",
        "version": 3
      },
      "file_extension": ".py",
      "mimetype": "text/x-python",
      "name": "python",
      "nbconvert_exporter": "python",
      "pygments_lexer": "ipython3",
      "version": "3.11.7"
    },
    "colab": {
      "provenance": [],
      "collapsed_sections": [
        "4XhwDIvMuAWF",
        "KcvYMDktuIRt",
        "gmNQt9EqujH8",
        "UnYml_FAKntw",
        "amL-aXhy38EC"
      ],
      "gpuType": "T4",
      "include_colab_link": true
    },
    "accelerator": "GPU"
  },
  "nbformat": 4,
  "nbformat_minor": 0
}